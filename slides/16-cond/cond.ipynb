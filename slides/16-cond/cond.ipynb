{
 "cells": [
  {
   "cell_type": "raw",
   "metadata": {
    "toc": "true",
    "vscode": {
     "languageId": "raw"
    }
   },
   "source": [
    "---\n",
    "title: Condition Number\n",
    "subtitle: Biostat/Biomath M257\n",
    "author: Dr. Hua Zhou @ UCLA\n",
    "date: today\n",
    "format:\n",
    "  html:\n",
    "    theme: cosmo\n",
    "    embed-resources: true\n",
    "    number-sections: true\n",
    "    toc: true\n",
    "    toc-depth: 4\n",
    "    toc-location: left\n",
    "    code-fold: false\n",
    "---"
   ]
  },
  {
   "cell_type": "markdown",
   "metadata": {},
   "source": [
    "System information (for reproducibility):"
   ]
  },
  {
   "cell_type": "code",
   "execution_count": null,
   "metadata": {},
   "outputs": [],
   "source": [
    "versioninfo()"
   ]
  },
  {
   "cell_type": "markdown",
   "metadata": {},
   "source": [
    "Load packages:"
   ]
  },
  {
   "cell_type": "code",
   "execution_count": null,
   "metadata": {},
   "outputs": [],
   "source": [
    "using Pkg\n",
    "\n",
    "Pkg.activate(pwd())\n",
    "Pkg.instantiate()\n",
    "Pkg.status()"
   ]
  },
  {
   "cell_type": "markdown",
   "metadata": {},
   "source": [
    "* Assume $\\mathbf{A} \\in \\mathbb{R}^{n \\times n}$ is nonsingular and consider the system of linear equation \n",
    "$$\n",
    "\\mathbf{A} \\mathbf{x} = \\mathbf{b}.\n",
    "$$\n",
    "The solution is \n",
    "$$\n",
    "\\mathbf{x} = \\mathbf{A}^{-1}  \\mathbf{b}.\n",
    "$$\n",
    "We want to know how the solution changes with a small perturbation of the input $\\mathbf{b}$ (or $\\mathbf{A}$).\n",
    "\n",
    "* Let \n",
    "$$\n",
    "\\mathbf{b}_{\\text{new}} = \\mathbf{b} + \\Delta \\mathbf{b}.\n",
    "$$\n",
    "Then \n",
    "$$\n",
    "\\mathbf{x}_{\\text{new}} = \\mathbf{A}^{-1} (\\mathbf{b} + \\Delta \\mathbf{b}) = \\mathbf{x} + \\Delta \\mathbf{x}.\n",
    "$$\n",
    "Thus \n",
    "$$\n",
    "\\|\\Delta \\mathbf{x}\\| = \\|\\mathbf{A}^{-1} \\Delta \\mathbf{b}\\| \\le \\|\\mathbf{A}^{-1}\\| \\|\\Delta \\mathbf{b}\\|\n",
    "$$\n",
    "for any matrix norm $\\| \\cdot \\|$. Because $\\mathbf{b} = \\mathbf{A} \\mathbf{x}$, $\\|\\mathbf{b}\\| \\le \\|\\mathbf{A}\\| \\|\\mathbf{x}\\|$ and\n",
    "$$\n",
    "\\frac{1}{\\|\\mathbf{x}\\|} \\le \\|\\mathbf{A}\\| \\frac{1}{\\|\\mathbf{b}\\|}.\n",
    "$$\n",
    "This results \n",
    "$$\n",
    "\\frac{ \\|\\Delta \\mathbf{x}\\|}{\\|\\mathbf{x}\\|} \\le \\|\\mathbf{A}\\|\\|\\mathbf{A}^{-1}\\| \\frac{\\|\\Delta \\mathbf{b}\\|}{\\|\\mathbf{b}\\|}.\n",
    "$$\n",
    "\n",
    "* $\\kappa(\\mathbf{A}) = \\|\\mathbf{A}\\| \\|\\mathbf{A}^{-1}\\|$ is called the **condition number for linear equation**. It depends on the matrix norm being used.  \n",
    "    * $\\kappa_p$ means condition number defined from matrix-$p$ norm.\n",
    "\n",
    "* Large condition number means \"bad\".\n",
    "\n",
    "* Some facts:  \n",
    "$$\n",
    "\\begin{eqnarray*}\n",
    "\\kappa(\\mathbf{A}) &=& \\kappa(\\mathbf{A}^{-1})\t\\\\\n",
    "\\kappa(c\\mathbf{A}) &=& \\kappa(\\mathbf{A})\t\\\\\n",
    "\\kappa(\\mathbf{A}) &\\ge& 1\t\\\\\n",
    "%\\kappa_1(\\mathbf{A}) &=& \\kappa_\\infty (\\mathbf{A}^T)\t\\\\\n",
    "\\kappa_2 (\\mathbf{A}) &=& \\kappa_2 (\\mathbf{A}^T) = \\frac{\\sigma_1(\\mathbf{A})}{\\sigma_n(\\mathbf{A})}\t\\\\\n",
    "\\kappa_2(\\mathbf{A}^T \\mathbf{A}) &=& \\frac{\\lambda_1(\\mathbf{A}^T \\mathbf{A})}{\\lambda_n(\\mathbf{A}^T \\mathbf{A})} =  \\kappa_2^2(\\mathbf{A}) \\ge \\kappa_2(\\mathbf{A}).\n",
    "\\end{eqnarray*}\n",
    "$$\n",
    "The last fact says that the condition number of $\\mathbf{A}^T \\mathbf{A}$ can be much larger than that of $\\mathbf{A}$.\n",
    "\n",
    "* The smallest singular value $\\sigma_n$ indicates the _distance to the trouble_.\n",
    "\n",
    "* **Condition number for the least squares problem** is more complicated. Roughly speaking, \n",
    "    - the method based on normal equation (Cholesky, sweep) has a condition depending on $[\\kappa_2(\\mathbf{X})]^2$ \n",
    "    - QR for a _small residuals_ least squares problem has a condition depending on $\\kappa_2(\\mathbf{X})$\n",
    "    \n",
    "* Consider the simple case\n",
    "$$\n",
    "\\begin{eqnarray*}\n",
    "\t\\mathbf{X} = \\begin{pmatrix}\n",
    "\t1 & 1 \\\\\n",
    "\t10^{-3} & 0 \\\\\n",
    "\t0 & 10^{-3}\n",
    "\t\\end{pmatrix}.\n",
    "\\end{eqnarray*}\n",
    "$$\n",
    "Forming normal equation yields a singular Gramian matrix\n",
    "$$\n",
    "\\begin{eqnarray*}\n",
    "\t\\mathbf{X}^T \\mathbf{X} = \\begin{pmatrix}\n",
    "\t1 & 1 \\\\\n",
    "\t1 & 1\n",
    "\t\\end{pmatrix}\n",
    "\\end{eqnarray*}\n",
    "$$\n",
    "if executed with a precision of 6 decimal digits."
   ]
  },
  {
   "cell_type": "markdown",
   "metadata": {},
   "source": [
    "## Implementation\n",
    "\n",
    "* Julia function [`cond`](https://docs.julialang.org/en/v1/stdlib/LinearAlgebra/#LinearAlgebra.cond) computes $\\kappa_p$ for $p=1$, 2 (default), or $\\infty$.\n",
    "\n",
    "* Julia function [`condskeel`](https://docs.julialang.org/en/v1/stdlib/LinearAlgebra/#LinearAlgebra.condskeel) computes the Skeel condition number."
   ]
  },
  {
   "cell_type": "markdown",
   "metadata": {},
   "source": [
    "## Longley example\n",
    "\n",
    "The [Longley (1967)](https://www.jstor.org/stable/2283673?seq=1#page_scan_tab_contents) macroeconomic data set is a famous test example for numerical software in early days."
   ]
  },
  {
   "cell_type": "code",
   "execution_count": null,
   "metadata": {},
   "outputs": [],
   "source": [
    "using DelimitedFiles, LinearAlgebra, StatsBase, StatsPlots\n",
    "\n",
    "longley = readdlm(\"longley.txt\")"
   ]
  },
  {
   "cell_type": "code",
   "execution_count": null,
   "metadata": {},
   "outputs": [],
   "source": [
    "gr()\n",
    "\n",
    "corrplot(longley, \n",
    "    label = [\"Employ\" \"Price\" \"GNP\" \"Jobless\" \"Military\" \"PopSize\" \"Year\"])"
   ]
  },
  {
   "cell_type": "code",
   "execution_count": null,
   "metadata": {},
   "outputs": [],
   "source": [
    "# response: Employment\n",
    "y = longley[:, 1]\n",
    "# predictor matrix\n",
    "X = [ones(length(y)) longley[:, 2:end]]"
   ]
  },
  {
   "cell_type": "code",
   "execution_count": null,
   "metadata": {},
   "outputs": [],
   "source": [
    "# Julia function for obtaining condition number\n",
    "cond(X)"
   ]
  },
  {
   "cell_type": "code",
   "execution_count": null,
   "metadata": {},
   "outputs": [],
   "source": [
    "# we see the smallest singular value (aka trouble number) is very small\n",
    "xsvals = svdvals(X)"
   ]
  },
  {
   "cell_type": "code",
   "execution_count": null,
   "metadata": {},
   "outputs": [],
   "source": [
    "# condition number of the design matrix\n",
    "xcond = maximum(xsvals) / minimum(xsvals)"
   ]
  },
  {
   "cell_type": "code",
   "execution_count": null,
   "metadata": {},
   "outputs": [],
   "source": [
    "# X is full rank from SVD\n",
    "xrksvd = rank(X)"
   ]
  },
  {
   "cell_type": "code",
   "execution_count": null,
   "metadata": {},
   "outputs": [],
   "source": [
    "# least squares from QR\n",
    "X \\ y"
   ]
  },
  {
   "cell_type": "code",
   "execution_count": null,
   "metadata": {},
   "outputs": [],
   "source": [
    "# Gram matrix\n",
    "G = X'X"
   ]
  },
  {
   "cell_type": "code",
   "execution_count": null,
   "metadata": {},
   "outputs": [],
   "source": [
    "# rank of Gram matrix from SVD\n",
    "# rank deficient! We lost precision when forming Gram matrix\n",
    "rank(G)"
   ]
  },
  {
   "cell_type": "code",
   "execution_count": null,
   "metadata": {},
   "outputs": [],
   "source": [
    "svdvals(G)"
   ]
  },
  {
   "cell_type": "code",
   "execution_count": null,
   "metadata": {},
   "outputs": [],
   "source": [
    "# rank of Gram matrix from cholesky\n",
    "# full!\n",
    "gchol = cholesky(Symmetric(G), Val(true))\n",
    "rank(gchol)"
   ]
  },
  {
   "cell_type": "code",
   "execution_count": null,
   "metadata": {},
   "outputs": [],
   "source": [
    "# least squares solution from Cholesky matches those from QR\n",
    "gchol \\ (X'y)"
   ]
  },
  {
   "cell_type": "markdown",
   "metadata": {},
   "source": [
    "* Now let us re-run above example using **single precision**. (Pretend we are in the 60s-70s.)"
   ]
  },
  {
   "cell_type": "code",
   "execution_count": null,
   "metadata": {},
   "outputs": [],
   "source": [
    "Xsp = Float32.(X)\n",
    "ysp = Float32.(y)\n",
    "\n",
    "# least squares by QR: dramatically different from Float64 solution\n",
    "Xsp \\ ysp"
   ]
  },
  {
   "cell_type": "code",
   "execution_count": null,
   "metadata": {},
   "outputs": [],
   "source": [
    "# least squares by Cholesky: failed\n",
    "G = Xsp'Xsp\n",
    "gchol = cholesky(Symmetric(G), Val(true), check=false)\n",
    "gchol \\ (Xsp'ysp)"
   ]
  },
  {
   "cell_type": "code",
   "execution_count": null,
   "metadata": {},
   "outputs": [],
   "source": [
    "rank(Xsp)"
   ]
  },
  {
   "cell_type": "code",
   "execution_count": null,
   "metadata": {},
   "outputs": [],
   "source": [
    "# rank of Gram matrix by Cholesky\n",
    "rank(gchol)"
   ]
  },
  {
   "cell_type": "code",
   "execution_count": null,
   "metadata": {},
   "outputs": [],
   "source": [
    "# rank of Gram matrix by SVD\n",
    "rank(G)"
   ]
  },
  {
   "cell_type": "markdown",
   "metadata": {},
   "source": [
    "* **Standardizing the predictors** improves the condition."
   ]
  },
  {
   "cell_type": "code",
   "execution_count": null,
   "metadata": {},
   "outputs": [],
   "source": [
    "# center and standardize matrix along dimension 1\n",
    "Xcs = zscore(X[:, 2:end], 1)\n",
    "Xcs = [ones(length(y)) Xcs]"
   ]
  },
  {
   "cell_type": "code",
   "execution_count": null,
   "metadata": {},
   "outputs": [],
   "source": [
    "cond(Xcs)"
   ]
  },
  {
   "cell_type": "code",
   "execution_count": null,
   "metadata": {},
   "outputs": [],
   "source": [
    "rank(Xcs)"
   ]
  },
  {
   "cell_type": "code",
   "execution_count": null,
   "metadata": {},
   "outputs": [],
   "source": [
    "rank(Xcs'Xcs)"
   ]
  },
  {
   "cell_type": "markdown",
   "metadata": {},
   "source": [
    "## Further reading\n",
    "\n",
    "* Chapter 6 of [Numerical Analysis for Statisticians](http://ucla.worldcat.org/title/numerical-analysis-for-statisticians/oclc/793808354&referer=brief_results) of Kenneth Lange (2010).\n",
    "\n",
    "* Section 2.6 of [Matrix Computation](http://catalog.library.ucla.edu/vwebv/holdingsInfo?bibId=7122088) by Gene Golub and Charles Van Loan (2013)."
   ]
  }
 ],
 "metadata": {
  "@webio": {
   "lastCommId": null,
   "lastKernelId": null
  },
  "hide_input": false,
  "jupytext": {
   "formats": "ipynb,qmd"
  },
  "kernelspec": {
   "display_name": "Julia 1.10.2",
   "language": "julia",
   "name": "julia-1.10"
  },
  "language_info": {
   "file_extension": ".jl",
   "mimetype": "application/julia",
   "name": "julia",
   "version": "1.10.2"
  },
  "toc": {
   "colors": {
    "hover_highlight": "#DAA520",
    "running_highlight": "#FF0000",
    "selected_highlight": "#FFD700"
   },
   "moveMenuLeft": true,
   "nav_menu": {
    "height": "68px",
    "width": "252px"
   },
   "navigate_menu": true,
   "number_sections": true,
   "sideBar": true,
   "skip_h1_title": true,
   "threshold": 4,
   "toc_cell": true,
   "toc_position": {
    "height": "391.3333435058594px",
    "left": "0px",
    "right": "803.6666870117188px",
    "top": "67.33333587646484px",
    "width": "165px"
   },
   "toc_section_display": "block",
   "toc_window_display": true,
   "widenNotebook": false
  },
  "toc-autonumbering": true
 },
 "nbformat": 4,
 "nbformat_minor": 4
}
