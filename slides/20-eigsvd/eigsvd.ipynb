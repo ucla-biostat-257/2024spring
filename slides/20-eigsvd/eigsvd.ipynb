{
 "cells": [
  {
   "cell_type": "raw",
   "metadata": {
    "vscode": {
     "languageId": "raw"
    }
   },
   "source": [
    "---\n",
    "title: Eigen-decomposition and SVD\n",
    "subtitle: Biostat/Biomath M257\n",
    "author: Dr. Hua Zhou @ UCLA\n",
    "date: today\n",
    "format:\n",
    "  html:\n",
    "    theme: cosmo\n",
    "    embed-resources: true\n",
    "    number-sections: true\n",
    "    toc: true\n",
    "    toc-depth: 4\n",
    "    toc-location: left\n",
    "    code-fold: false\n",
    "---"
   ]
  },
  {
   "cell_type": "markdown",
   "metadata": {},
   "source": [
    "System information (for reproducibility):"
   ]
  },
  {
   "cell_type": "code",
   "execution_count": null,
   "metadata": {},
   "outputs": [],
   "source": [
    "versioninfo()"
   ]
  },
  {
   "cell_type": "markdown",
   "metadata": {},
   "source": [
    "Load packages:"
   ]
  },
  {
   "cell_type": "code",
   "execution_count": null,
   "metadata": {},
   "outputs": [],
   "source": [
    "using Pkg\n",
    "\n",
    "Pkg.activate(pwd())\n",
    "Pkg.instantiate()\n",
    "Pkg.status()"
   ]
  },
  {
   "cell_type": "markdown",
   "metadata": {},
   "source": [
    "# Introduction\n",
    "\n",
    "Our last topic on numerical linear algebra is eigen-decomposition and singular value decomposition (SVD). We already saw the wide applications of QR decomposition in least squares problem and solving square and under-determined linear equations. Eigen-decomposition and SVD can be deemed as more thorough orthogonalization of a matrix. We start with a brief review of the related linear algebra.\n",
    "\n",
    "## Linear algebra review: eigen-decomposition\n",
    "\n",
    "For a quick review of eigen-decomposition, see [Biostat 216 slides](https://ucla-biostat-216.github.io/2023fall/slides/10-eig/10-eig.html).\n",
    "\n",
    "* **Eigenvalues** are defined as roots of the characteristic equation $\\det(\\lambda \\mathbf{I}_n - \\mathbf{A})=0$.\n",
    "\n",
    "* If $\\lambda$ is an eigenvalue of $\\mathbf{A}$, then there exist non-zero $\\mathbf{x}, \\mathbf{y} \\in \\mathbb{R}^n$ such that $\\mathbf{A} \\mathbf{x} = \\lambda \\mathbf{x}$ and $\\mathbf{y}^T \\mathbf{A} = \\lambda \\mathbf{y}^T$. $\\mathbf{x}$ and $\\mathbf{y}$ are called the (column) **eigenvector** and **row eigenvector** of $\\mathbf{A}$ associated with the eigenvalue $\\lambda$.\n",
    "\n",
    "* $\\mathbf{A}$ is singular if and only if it has at least one 0 eigenvalue.\n",
    "\n",
    "* Eigenvectors associated with distinct eigenvalues are linearly independent.\n",
    "\n",
    "* Eigenvalues of an upper or lower triangular matrix are its diagonal entries: $\\lambda_i = a_{ii}$.\n",
    "\n",
    "* Eigenvalues of an idempotent matrix are either 0 or 1.\n",
    "\n",
    "* Eigenvalues of an orthogonal matrix have complex modulus 1.\n",
    "\n",
    "* In most statistical applications, we deal with eigenvalues/eigenvectors of symmetric matrices. \n",
    "The eigenvalues and eigenvectors of a real **symmetric** matrix are real.\n",
    "\n",
    "* Eigenvectors associated with distinct eigenvalues of a symmetry matrix are orthogonal.\n",
    "\n",
    "* **Eigen-decompostion of a symmetric matrix**: $\\mathbf{A} = \\mathbf{U} \\Lambda \\mathbf{U}^T$, where\n",
    "    * $\\Lambda = \\text{diag}(\\lambda_1,\\ldots,\\lambda_n)$\n",
    "    * columns of $\\mathbf{U}$ are the eigenvectors, which are (or can be chosen to be) mutually orthonormal. Thus $\\mathbf{U}$ is an orthogonal matrix.\n",
    "\n",
    "* A real symmetric matrix is positive semidefinite (positive definite) if and only if all eigenvalues are nonnegative (positive).\n",
    "\n",
    "* **Spectral radius** $\\rho(\\mathbf{A}) = \\max_i |\\lambda_i|$.\n",
    "\n",
    "* $\\mathbf{A} \\in \\mathbb{R}^{n \\times n}$ a square matrix (not required to be symmetric), then $\\text{tr}(\\mathbf{A}) = \\sum_i \\lambda_i$ and $\\det(\\mathbf{A}) = \\prod_i \\lambda_i$.\n",
    "\n",
    "## Linear algebra review: singular value decomposition (SVD)\n",
    "\n",
    "For a quick review of SVD, see [Biostat 216 slides](https://ucla-biostat-216.github.io/2022fall/slides/12-svd/12-svd.html).\n",
    "\n",
    "* **Singular value decomposition (SVD)**: For a rectangular matrix $\\mathbf{A} \\in \\mathbb{R}^{m \\times n}$, let $p = \\min\\{m,n\\}$, then we have the SVD\n",
    "$$\n",
    "\\mathbf{A} = \\mathbf{U} \\Sigma \\mathbf{V}^T,\n",
    "$$\n",
    "where\n",
    "    * $\\mathbf{U} = (\\mathbf{u}_1,\\ldots,\\mathbf{u}_m) \\in \\mathbb{R}^{m \\times m}$ is orthogonal\n",
    "    * $\\mathbf{V} = (\\mathbf{v}_1,\\ldots,\\mathbf{v}_n) \\in \\mathbb{R}^{n \\times n}$ is orthogonal\n",
    "    * $\\Sigma = \\text{diag}(\\sigma_1, \\ldots, \\sigma_p)  \\in \\mathbb{R}^{m \\times n}$, $\\sigma_1 \\ge \\sigma_2 \\ge \\cdots \\ge \\sigma_p \\ge 0$.  \n",
    "$\\sigma_i$ are called the **singular values**, $\\mathbf{u}_i$ are the **left singular vectors**, and $\\mathbf{v}_i$ are the **right singular vectors**.\n",
    "\n",
    "* **Thin/Skinny SVD**. Assume $m \\ge n$. $\\mathbf{A}$ can be factored as \n",
    "$$\n",
    "\\mathbf{A} = \\mathbf{U}_n \\Sigma_n \\mathbf{V}^T = \\sum_{i=1}^n \\sigma_i \\mathbf{u}_i \\mathbf{v}_i^T,\n",
    "$$ \n",
    "where \n",
    "    * $\\mathbf{U}_n \\in \\mathbb{R}^{m \\times n}$, $\\mathbf{U}_n^T \\mathbf{U}_n = \\mathbf{I}_n$\n",
    "    * $\\mathbf{V} \\in \\mathbb{R}^{n \\times n}$, $\\mathbf{V}^T \\mathbf{V} = \\mathbf{I}_n$\n",
    "    * $\\Sigma_n = \\text{diag}(\\sigma_1,\\ldots,\\sigma_n) \\in \\mathbb{R}^{n \\times n}$, $\\sigma_1 \\ge \\sigma_2 \\ge \\cdots \\ge \\sigma_n \\ge 0$\n",
    "    \n",
    "* Denote $\\sigma(\\mathbf{A})=(\\sigma_1,\\ldots,\\sigma_p)^T$. Then \n",
    "    * $r = \\text{rank}(\\mathbf{A}) = \\# \\text{ nonzero singular values} = \\|\\sigma(\\mathbf{A})\\|_0$  \n",
    "    * $\\mathbf{A} = \\mathbf{U}_r \\Sigma_r \\mathbf{V}_r^T = \\sum_{i=1}^r \\sigma_i \\mathbf{u}_i \\mathbf{v}_i^T$\n",
    "    * $\\|\\mathbf{A}\\|_{\\text{F}} = (\\sum_{i=1}^p \\sigma_i^2)^{1/2} = \\|\\sigma(\\mathbf{A})\\|_2$\n",
    "    * $\\|\\mathbf{A}\\|_2 = \\sigma_1 = \\|\\sigma(\\mathbf{A})\\|_\\infty$\n",
    "\n",
    "* Assume $\\text{rank}(\\mathbf{A}) = r$ and partition \n",
    "$$\n",
    "\\begin{eqnarray*}\n",
    "\\mathbf{U} &=& (\\mathbf{U}_r, \\tilde{\\mathbf{U}}_r) \\in \\mathbb{R}^{m \\times m} \\\\\n",
    "\\mathbf{V} &=& (\\mathbf{V}_r, \\tilde{\\mathbf{V}}_r) \\in \\mathbb{R}^{n \\times n}.\n",
    "\\end{eqnarray*}\n",
    "$$\n",
    "Then\n",
    "    * ${\\cal C}(\\mathbf{A}) = {\\cal C}(\\mathbf{U}_r)$, ${\\cal N}(\\mathbf{A}^T) = {\\cal C}(\\tilde{\\mathbf{U}}_r)$\n",
    "    * ${\\cal N}(\\mathbf{A}) = {\\cal C}(\\tilde{\\mathbf{V}}_r)$, ${\\cal C}(\\mathbf{A}^T) = {\\cal C}(\\mathbf{V}_r)$\n",
    "    * $\\mathbf{U}_r \\mathbf{U}_r^T$ is the orthogonal projection onto ${\\cal C}(\\mathbf{A})$\n",
    "    * $\\tilde{\\mathbf{U}}_r \\tilde{\\mathbf{U}}_r^T$ is the orthogonal projection onto ${\\cal N}(\\mathbf{A}^T)$\n",
    "    * $\\mathbf{V}_r \\mathbf{V}_r^T$ is the orthogonal projection onto ${\\cal C}(\\mathbf{A}^T)$\n",
    "    * $\\tilde{\\mathbf{V}}_r \\tilde{\\mathbf{V}}_r^T$ is the orthogonal projection onto ${\\cal N}(\\mathbf{A})$\n",
    "\n",
    "* Relation to eigen-decomposition. Using thin SVD,\n",
    "$$\n",
    "\\begin{eqnarray*}\n",
    "\t\\mathbf{A}^T \\mathbf{A} &=& \\mathbf{V} \\Sigma \\mathbf{U}^T \\mathbf{U} \\Sigma \\mathbf{V}^T = \\mathbf{V} \\Sigma^2 \\mathbf{V}^T \\\\\n",
    "\t\\mathbf{A} \\mathbf{A}^T &=& \\mathbf{U} \\Sigma \\mathbf{V}^T \\mathbf{V} \\Sigma \\mathbf{U}^T = \\mathbf{U} \\Sigma^2 \\mathbf{U}^T.\n",
    "\\end{eqnarray*}\n",
    "$$\n",
    "In principle we can obtain singular triplets of $\\mathbf{A}$ by doing two eigen-decompositions.\n",
    "\n",
    "* Another relation to eigen-decomposition. Using thin SVD,\n",
    "$$\n",
    "\\begin{eqnarray*}\n",
    "\t\\begin{pmatrix} \\mathbf{0}_{n \\times n} & \\mathbf{A}^T \\\\ \\mathbf{A} & \\mathbf{0}_{m \\times m} \\end{pmatrix} = \\frac{1}{\\sqrt 2} \\begin{pmatrix} \\mathbf{V} & \\mathbf{V} \\\\ \\mathbf{U} & -\\mathbf{U} \\end{pmatrix} \\begin{pmatrix} \\Sigma & \\mathbf{0}_{n \\times n} \\\\ \\mathbf{0}_{n \\times n} & - \\Sigma \\end{pmatrix} \\frac{1}{\\sqrt 2} \\begin{pmatrix} \\mathbf{V}^T & \\mathbf{U}^T \\\\ \\mathbf{V}^T & - \\mathbf{U}^T \\end{pmatrix}.\n",
    "\\end{eqnarray*}\n",
    "$$\n",
    "Hence any symmetric eigen-solver can produce the SVD of a matrix $\\mathbf{A}$ without forming $\\mathbf{A} \\mathbf{A}^T$ or $\\mathbf{A}^T \\mathbf{A}$.\n",
    "\n",
    "* Yet another relation to eigen-decomposition: If the eigen-decomposition of a real symmetric matrix is $\\mathbf{A} = \\mathbf{W} \\Lambda \\mathbf{W}^T = \\mathbf{W} \\text{diag}(\\lambda_1, \\ldots, \\lambda_n) \\mathbf{W}^T$, then\n",
    "$$\n",
    "\\begin{eqnarray*}\n",
    "\t\\mathbf{A} = \\mathbf{W} \\Lambda \\mathbf{W}^T = \\mathbf{W} \\begin{pmatrix} \n",
    "\t|\\lambda_1| & & \\\\\n",
    "\t& \\ddots & \\\\\n",
    "\t& & |\\lambda_n|\n",
    "\t\\end{pmatrix} \\begin{pmatrix} \n",
    "\t\\text{sgn}(\\lambda_1) & & \\\\\n",
    "\t& \\ddots & \\\\\n",
    "\t& & \\text{sgn}(\\lambda_n)\n",
    "\t\\end{pmatrix} \\mathbf{W}^T\n",
    "\\end{eqnarray*}\n",
    "$$\n",
    "is the SVD of $\\mathbf{A}$.\n",
    "\n",
    "## Applications of eigen-decomposition and SVD\n",
    "\n",
    "\n",
    "### Principal components analysis (PCA). \n",
    "\n",
    "$\\mathbf{X} \\in \\mathbb{R}^{n \\times p}$ is a centered data matrix. Perform SVD $\\mathbf{X} = \\mathbf{U} \\Sigma \\mathbf{V}^T$ or equivalently eigendecomposition $\\mathbf{X}^T \\mathbf{X} = \\mathbf{V} \\Sigma^2 \\mathbf{V}^T$. The linear combinations $\\tilde{\\mathbf{x}}_i = \\mathbf{X} \\mathbf{v}_i$ are the **principal components** (PC) and have variance $\\sigma_i^2$.\n",
    "\n",
    "* Dimension reduction: reduce dimensionality $p$ to $q \\ll p$. Use top PCs $\\tilde{\\mathbf{x}}_1, \\ldots, \\tilde{\\mathbf{x}}_q$ in visualization and downstream analysis.\n",
    "\n",
    "<img src=\"https://media.springernature.com/full/springer-static/image/art%3A10.1038%2Fnature07331/MediaObjects/41586_2008_Article_BFnature07331_Fig1_HTML.jpg\" width=\"400\" align=\"center\"/>\n",
    "\n",
    "Above picture is from the article [Genes mirror geography within Europe](http://www.nature.com/nature/journal/v456/n7218/full/nature07331.html) by Novembre et al (2008) published in _Nature_.  \n",
    "\n",
    "* Use PCs to adjust for confounding - a serious issue in association studies in large data sets.\n",
    "    * Use of PCA to adjust for confounding in modern genetic studies is proposed in the paper [Principal components analysis corrects for stratification in genome-wide association studies](http://www.nature.com/ng/journal/v38/n8/full/ng1847.html) by Price et al (2006) published in _Nature Genetics_. It has been cited 6,937 times as of May 3, 2019.\n",
    "    \n",
    "### Low rank approximation\n",
    "\n",
    "For example, image/data compression. Find a low rank approximation of data matrix $\\mathbf{x}$.  \n",
    "**Eckart-Young theorem**: \n",
    "$$\n",
    "\\min_{\\text{rank}(\\mathbf{Y})=r} \\|\\mathbf{X} - \\mathbf{Y} \\|_{\\text{F}}^2\n",
    "$$\n",
    "is achieved by $\\mathbf{Y} = \\sum_{i=1}^r \\sigma_i \\mathbf{u}_i \\mathbf{v}_i^T$ with optimal value $\\sum_{i=r}^{p} \\sigma_i^2$, where $(\\sigma_i, \\mathbf{u}_i, \\mathbf{v}_i)$ are singular values and vectors of $\\mathbf{X}$.\n",
    "\n",
    "* Gene Golub's $897 \\times 598$ picture requires $3 \\times 897 \\times 598 \\times 8 = 12,873,744$ bytes (3 RGB channels).  \n",
    "* Rank 50 approximation requires $3 \\times 50 \\times (897 + 598) \\times 8 = 1,794,000$ bytes. \n",
    "* Rank 12 approximation requires $12 \\times (2691+598) \\times 8 = 430,560$ bytes.\n",
    "\n",
    "<img src=\"https://www.mathworks.com/content/mathworks/www/en/company/newsletters/articles/professor-svd/_jcr_content/mainParsys/columns/3/image_7.img.jpg/1490211663024.jpg\" width=\"150\" align=\"center\"/>\n",
    "\n",
    "<img src=\"https://www.mathworks.com/content/mathworks/www/en/company/newsletters/articles/professor-svd/_jcr_content/mainParsys/columns/2/image_6.img.jpg/1490211662986.jpg\" width=\"150\" align=\"center\"/>\n",
    "\n",
    "<img src=\"https://www.mathworks.com/content/mathworks/www/en/company/newsletters/articles/professor-svd/_jcr_content/mainParsys/columns/1/image_5.img.jpg/1490211662955.jpg\" width=\"150\" align=\"center\"/>\n",
    "\n",
    "\n",
    "### Moore-Penrose (MP) inverse\n",
    "\n",
    "Using thin SVD, \n",
    "$$\n",
    "\\mathbf{A}^+ = \\mathbf{V} \\Sigma^+ \\mathbf{U}^T,\n",
    "$$\n",
    "where $\\Sigma^+ = \\text{diag}(\\sigma_1^{-1}, \\ldots, \\sigma_r^{-1}, 0, \\ldots, 0)$, $r= \\text{rank}(\\mathbf{A})$. This is how the [`pinv`](https://docs.julialang.org/en/v1/stdlib/LinearAlgebra/#LinearAlgebra.pinv) function is implemented in Julia."
   ]
  },
  {
   "cell_type": "code",
   "execution_count": null,
   "metadata": {},
   "outputs": [],
   "source": [
    "using Random, LinearAlgebra\n",
    "\n",
    "Random.seed!(257)\n",
    "X = randn(5, 3)\n",
    "pinv(X)"
   ]
  },
  {
   "cell_type": "code",
   "execution_count": null,
   "metadata": {},
   "outputs": [],
   "source": [
    "# calculation of Moore-Penrose inverse by SVD\n",
    "@which pinv(X)"
   ]
  },
  {
   "cell_type": "markdown",
   "metadata": {},
   "source": [
    "### Least squares\n",
    "\n",
    "Given thin SVD $\\mathbf{X} = \\mathbf{U} \\Sigma \\mathbf{V}^T$, \n",
    "$$\n",
    "\\begin{eqnarray*}\n",
    "\t\\widehat \\beta &=& (\\mathbf{X}^T \\mathbf{X})^- \\mathbf{X}^T \\mathbf{y} \\\\\n",
    "\t&=& (\\mathbf{V} \\Sigma^2 \\mathbf{V}^T)^+ \\mathbf{V} \\Sigma \\mathbf{U}^T \\mathbf{y} \\\\\n",
    "\t&=& \\mathbf{V} (\\Sigma^{2})^+ \\mathbf{V}^T \\mathbf{V} \\Sigma \\mathbf{U}^T \\mathbf{y} \\\\\n",
    "\t&=& \\mathbf{V}_r \\Sigma_r^{-1} \\mathbf{U}_r^T \\mathbf{y} \\\\\n",
    "\t&=& \\sum_{i=1}^r \\left( \\frac{\\mathbf{u}_i^T \\mathbf{y}}{\\sigma_i} \\right) \\mathbf{v}_i\n",
    "\\end{eqnarray*}\n",
    "$$\n",
    "and\n",
    "$$\n",
    "\\begin{eqnarray*}\n",
    "\t\\widehat{\\mathbf{y}} &=& \\mathbf{X} \\widehat \\beta = \\mathbf{U}_r \\mathbf{U}_r^T \\mathbf{y}.\n",
    "\\end{eqnarray*}\n",
    "$$\n",
    "In general, SVD is more expensive than other approaches (Cholesky, Sweep, QR) we learnt. In some applications, SVD is computed for other purposes then we get least squares solution for free.\n",
    "\n",
    "### Ridge regression\n",
    "\n",
    "* In ridge regression, we minimize\n",
    "$$\n",
    "\t\\|\\mathbf{y} - \\mathbf{X} \\beta\\|_2^2 + \\lambda \\|\\beta\\|_2^2,\n",
    "$$\n",
    "where $\\lambda$ is a tuning parameter.\n",
    "\n",
    "* Ridge regression by augmented linear regression. Ridge regression problem is equivalent to\n",
    "$$\n",
    "\t\\left\\| \\begin{pmatrix} \\mathbf{y} \\\\ \\mathbf{0}_p \\end{pmatrix} - \\begin{pmatrix}\n",
    "\t\\mathbf{X} \\\\ \\sqrt \\lambda \\mathbf{I}_p\n",
    "\t\\end{pmatrix} \\beta \\right\\|_2^2.\n",
    "$$\n",
    "Therefore any methods for linear regression can be applied.\n",
    "\n",
    "* Ridge regression by method of normal equation. The normal equation for the ridge problem is\n",
    "$$\n",
    "\t(\\mathbf{X}^T \\mathbf{X} + \\lambda \\mathbf{I}_p) \\beta = \\mathbf{X}^T \\mathbf{y}.\n",
    "$$\n",
    "Therefore Cholesky or sweep operator can be used.\n",
    "\n",
    "* Ridge regression by SVD. If we obtain the (thin) SVD of $\\mathbf{X}$\n",
    "$$\n",
    "\t\\mathbf{X} = \\mathbf{U} \\Sigma_{p \\times p} \\mathbf{V}^T.\n",
    "$$\n",
    "Then the normal equation reads\n",
    "$$\n",
    "\t(\\Sigma^2 + \\lambda \\mathbf{I}_p) \\mathbf{V}^T \\beta = \\Sigma \\mathbf{U}^T \\mathbf{y}\n",
    "$$\n",
    "and we get\n",
    "$$\n",
    "\t\\widehat \\beta (\\lambda) = \\sum_{i=1}^p \\frac{\\sigma_i \\mathbf{u}_i^T \\mathbf{y}}{\\sigma_i^2 + \\lambda} \\mathbf{v}_i = \\sum_{i=1}^r \\frac{\\sigma_i \\mathbf{u}_i^T \\mathbf{y}}{\\sigma_i^2 + \\lambda} \\mathbf{v}_i, \\quad r = \\text{rank}(\\mathbf{X}).\n",
    "$$\n",
    "It is clear that \n",
    "$$\n",
    "\\begin{eqnarray*}\n",
    "\t\\lim_{\\lambda \\to 0} \\widehat \\beta (\\lambda) = \\widehat \\beta_{\\text{OLS}}\n",
    "\\end{eqnarray*}\n",
    "$$\n",
    "and $\\|\\widehat \\beta (\\lambda)\\|_2$ is monotone decreasing as $\\lambda$ increases.\n",
    "\n",
    "* Only one SVD is needed for all $\\lambda$ (!), in contrast to the method of augmented linear regression, Cholesky, or sweep.\n",
    "\n",
    "### Other applications\n",
    "\n",
    "See Chapters 8-9 of [Numerical Analysis for Statisticians](http://ucla.worldcat.org/title/numerical-analysis-for-statisticians/oclc/793808354&referer=brief_results) by Kenneth Lange (2010) for more applications of eigen-decomposition and SVD.\n",
    "\n",
    "## Algorithms for eigen-decomposition\n",
    "\n",
    "### One eigen-pair: power method\n",
    "\n",
    "* **Power method** iterates according to\n",
    "$$\n",
    "\\begin{eqnarray*}\n",
    "\t\\mathbf{x}^{(t)} &\\gets& \\frac{1}{\\|\\mathbf{A} \\mathbf{x}^{(t-1)}\\|_2} \\mathbf{A} \\mathbf{x}^{(t-1)}\n",
    "\\end{eqnarray*}\n",
    "$$\n",
    "from an initial guess $\\mathbf{x}^{(0)}$ of unit norm.\n",
    "\n",
    "* Suppose we arrange $|\\lambda_1| > |\\lambda_2| \\ge \\cdots \\ge |\\lambda_n|$ (the first inequality strict) with corresponding eigenvectors $\\mathbf{u}_i$, and expand $\\mathbf{x}^{(0)} = c_1 \\mathbf{u}_1 + \\cdots + c_n \\mathbf{u}_n$, then\n",
    "$$\n",
    "\\begin{eqnarray*}\n",
    "\t\\mathbf{x}^{(t)} &=& \\frac{\\left( \\sum_i \\lambda_i^t \\mathbf{u}_i \\mathbf{u}_i^T \\right) \\left( \\sum_i c_i \\mathbf{u}_i \\right)}{\\|\\left( \\sum_i \\lambda_i^t \\mathbf{u}_i \\mathbf{u}_i^T \\right) \\left( \\sum_i c_i \\mathbf{u}_i \\right)\\|_2} \\\\\n",
    "\t&=& \\frac{\\sum_i c_i \\lambda_i^t \\mathbf{u}_i}{\\|\\sum_i c_i \\lambda_i^t \\mathbf{u}_i\\|_2}\t\\\\\n",
    "\t&=& \\frac{c_1 \\mathbf{u}_1 + c_2 (\\lambda_2/\\lambda_1)^t \\mathbf{u}_2 + \\cdots + c_n (\\lambda_n/\\lambda_1)^t \\mathbf{u}_n}{\\|c_1 \\mathbf{u}_1 + c_2 (\\lambda_2/\\lambda_1)^t \\mathbf{u}_2 + \\cdots + c_n (\\lambda_n/\\lambda_1)^t \\mathbf{u}_n\\|_2} \\left( \\frac{\\lambda_1}{|\\lambda_1|} \\right)^t.\n",
    "\\end{eqnarray*}\n",
    "$$\n",
    "Thus $\\mathbf{x}^{(t)} - \\frac{c_1 \\mathbf{u}_1}{\\|c_1 \\mathbf{u}_1\\|_2} \\left( \\frac{\\lambda_1}{|\\lambda_1|} \\right)^t \\to 0$ as $t \\to \\infty$. The convergence rate is $|\\lambda_2|/|\\lambda_1|$.\n",
    "\n",
    "* $\\lambda_1^{(t)} = \\mathbf{x}^{(t)T} \\mathbf{A} \\mathbf{x}^{(t)}$ converges to $\\lambda_1$.\n",
    "\n",
    "* **Inverse power method** for finding the eigenvalue of smallest absolute value: Substitute $\\mathbf{A}$ by $\\mathbf{A}^{-1}$ in the power method. (E.g., pre-compute LU or Cholesky of $\\mathbf{A}$).\n",
    "\n",
    "* **Shifted inverse power**: Substitute $(\\mathbf{A} - \\mu \\mathbf{I})^{-1}$ in the power method. It converges to an eigenvalue close to the given $\\mu$.\n",
    "\n",
    "* **Rayleigh quotient iteration**: Substitute $(\\mathbf{A} - \\mu^{(t-1)} \\mathbf{I})^{-1}$, where $\\mu^{(t-1)} = \\mathbf{x}^{(t-1)T} \\mathbf{A} \\mathbf{x}^{(t-1)}$ in the shifted inverse method. Faster convergence.\n",
    "\n",
    "* Example: PageRank problem seeks top left eigenvector of transition matrix $\\mathbf{P}$ and costs $O(n)$ per iteration.\n",
    "\n",
    "### Top $r$ eigen-pairs: orthogonal iteration\n",
    "\n",
    "Generalization of power method to higher dimensional invariant subspace.\n",
    "\n",
    "* **Orthogonal iteration**: Initialize $\\mathbf{Q}^{(0)} \\in \\mathbb{R}^{n \\times r}$ with orthonormal columns. For $t=1,2,\\ldots$, \n",
    "$$\n",
    "\\begin{eqnarray*}\n",
    "\t\\mathbf{Z}^{(t)} &\\gets& \\mathbf{A} \\mathbf{Q}^{(t-1)} \\quad \\text{($2n^2r$ flops)} \\\\\n",
    "\t\\mathbf{Q}^{(t)} \\mathbf{R}^{(t)} &\\gets& \\mathbf{Z}^{(t)} \\quad \\text{(QR factorization)}%, $nr^2 - r^3/3$ flops)}\n",
    "\\end{eqnarray*}\n",
    "$$\n",
    "\n",
    "* $\\mathbf{Z}^{(t)}$ converges to the eigenspace of the largest $r$ eigenvalues if they are real and separated from remaining spectrum. The convergence rate is $|\\lambda_{r+1}|/|\\lambda_r|$.\n",
    "\n",
    "### (Impractical) full eigen-decomposition: QR iteration\n",
    "\n",
    "Assume $\\mathbf{A} \\in \\mathbb{R}^{n \\times n}$ symmetric.\n",
    "\n",
    "*  Take $r=n$ in the orthogonal iteration. Then $\\mathbf{Q}^{(t)}$ converges to the eigenspace $\\mathbf{U}$ of $\\mathbf{A}$. This implies that\n",
    "$$\n",
    "\t\\mathbf{T}^{(t)} := \\mathbf{Q}^{(t)T} \\mathbf{A} \\mathbf{Q}^{(t)}\n",
    "$$\n",
    "converges to a diagonal form $\\Lambda = \\text{diag}(\\lambda_1, \\ldots, \\lambda_n)$.\n",
    "\n",
    "* Note how to compute $\\mathbf{T}^{(t)}$ from $\\mathbf{T}^{(t-1)}$\n",
    "$$\n",
    "\\begin{eqnarray*}\n",
    "\t\\mathbf{T}^{(t-1)} &=& \\mathbf{Q}^{(t-1)T} \\mathbf{A} \\mathbf{Q}^{(t-1)} = \\mathbf{Q}^{(t-1)T} (\\mathbf{A} \\mathbf{Q}^{(t-1)}) = (\\mathbf{Q}^{(t-1)T} \\mathbf{Q}^{(t)}) \\mathbf{R}^{(t)}\t\\\\\\mathbf{A}\n",
    "\t\\mathbf{T}^{(t)} &=& \\mathbf{Q}^{(t)T} \\mathbf{A} \\mathbf{Q}^{(t)} = \\mathbf{Q}^{(t)T} \\mathbf{A} \\mathbf{Q}^{(t-1)} \\mathbf{Q}^{(t-1)T} \\mathbf{Q}^{(t)} = \\mathbf{R}^{(t)} ( \\mathbf{Q}^{(t-1)T} \\mathbf{Q}^{(t)}).\n",
    "\\end{eqnarray*}\n",
    "$$\n",
    "\n",
    "* **QR iteration**: Initialize $\\mathbf{U}^{(0)} \\in \\mathbb{R}^{n \\times n}$ orthogonal and set $\\mathbf{T}^{(0)} = \\mathbf{U}^{(0)T} \\mathbf{A} \\mathbf{U}^{(0)}$. \\\\\n",
    "For $t=1,2,\\ldots$\n",
    "$$\n",
    "\\begin{eqnarray*}\n",
    "\t\\mathbf{U}^{(t)} \\mathbf{R}^{(t)} &\\gets& \\mathbf{T}^{(t-1)} \\quad \\text{(QR factorization)} \\\\\n",
    "\t\\mathbf{T}^{(t)} &\\gets& \\mathbf{R}^{(t)} \\mathbf{U}^{(t)}\n",
    "\\end{eqnarray*}\n",
    "$$\n",
    "\n",
    "* QR iteration is expensive in general: $O(n^3)$ per iteration and linear convergence rate.\n",
    "\n",
    "### QR algorithm for symmetric eigen-decomposition\n",
    "\n",
    "Assume $\\mathbf{A} \\in \\mathbb{R}^{n \\times n}$ symmetric.\n",
    "\n",
    "* Reading: [The QR algorithm](https://ucla-biostat-257.github.io/2024spring/readings/qr.pdf) by Beresford N. Parlett.\n",
    "\n",
    "* This is the algorithm implemented in LAPACK: used by Julia, Matlab, R.\n",
    "\n",
    "<img src=\"./householder_tridiagonalization.png\" width=\"300\" align=\"center\"/>\n",
    "\n",
    "* Idea: Tri-diagonalization (by Householder) + QR iteration on the tri-diagonal system with implicit shift.\n",
    "   \n",
    "   0. Step 1: Householder tri-diagonalization: $4n^3/3$ for eigenvalues only, $8n^3/3$ for both eigenvalues and eigenvectors. (Why can't we apply Householder to make it diagonal directly?)\n",
    "    \n",
    "   0. Step 2: QR iteration on the tridiagonal matrix. Implicit shift accelerates convergence rate. On average 1.3-1.6 QR iteration per eigenvalue, $\\sim 20n$ flops per QR iteration. So total operation count is about $30n^2$. Eigenvectors need an extra of about $6n^3$ flops.\n",
    "\n",
    "| Stage                  | Eigenvalue   | Eigenvector |\n",
    "|------------------------|--------------|-------------|\n",
    "| Householder reduction  | $4n^3/3$     | $4n^3/3$    |\n",
    "| QR with implicit shift | $\\sim 30n^2$ | $\\sim 6n^3$ |\n",
    "\n",
    "* Message: **Don't request eigenvectors unless necessary**. Use [`eigvals`](https://docs.julialang.org/en/v1/stdlib/LinearAlgebra/#LinearAlgebra.eigvals) in Julia to request only eigenvalues.\n",
    "\n",
    "* The **unsymmetric QR algorithm** obtains the real Schur decomposition of an asymmetric matrix $\\mathbf{A}$.\n",
    "\n",
    "### Example\n",
    "\n",
    "Julia functions: [`eigen`](https://docs.julialang.org/en/v1/stdlib/LinearAlgebra/#LinearAlgebra.eigen), [`eigen!`](https://docs.julialang.org/en/v1/stdlib/LinearAlgebra/#LinearAlgebra.eigen!), [`eigvals`](https://docs.julialang.org/en/v1/stdlib/LinearAlgebra/#LinearAlgebra.eigvals!), [`eigvecs`](https://docs.julialang.org/en/v1/stdlib/LinearAlgebra/#LinearAlgebra.eigvecs), [`eigmax`](https://docs.julialang.org/en/v1/stdlib/LinearAlgebra/#LinearAlgebra.eigmax), [`eigmin`](https://docs.julialang.org/en/v1/stdlib/LinearAlgebra/#LinearAlgebra.eigmin)."
   ]
  },
  {
   "cell_type": "code",
   "execution_count": null,
   "metadata": {},
   "outputs": [],
   "source": [
    "Random.seed!(257)\n",
    "A = Symmetric(randn(5, 5), :U)\n",
    "Aeig = eigen(A)"
   ]
  },
  {
   "cell_type": "code",
   "execution_count": null,
   "metadata": {},
   "outputs": [],
   "source": [
    "# eigen-values\n",
    "Aeig.values"
   ]
  },
  {
   "cell_type": "code",
   "execution_count": null,
   "metadata": {},
   "outputs": [],
   "source": [
    "# eigen-vectors\n",
    "Aeig.vectors"
   ]
  },
  {
   "cell_type": "code",
   "execution_count": null,
   "metadata": {},
   "outputs": [],
   "source": [
    "# inversion by eigen-decomposition\n",
    "inv(Aeig)"
   ]
  },
  {
   "cell_type": "code",
   "execution_count": null,
   "metadata": {},
   "outputs": [],
   "source": [
    "@which inv(Aeig)"
   ]
  },
  {
   "cell_type": "code",
   "execution_count": null,
   "metadata": {},
   "outputs": [],
   "source": [
    "# determinant by eigen-decomposition\n",
    "det(Aeig)"
   ]
  },
  {
   "cell_type": "code",
   "execution_count": null,
   "metadata": {},
   "outputs": [],
   "source": [
    "@which det(Aeig)"
   ]
  },
  {
   "cell_type": "code",
   "execution_count": null,
   "metadata": {},
   "outputs": [],
   "source": [
    "@which eigvals(A)"
   ]
  },
  {
   "cell_type": "code",
   "execution_count": null,
   "metadata": {},
   "outputs": [],
   "source": [
    "@which eigmax(A)"
   ]
  },
  {
   "cell_type": "code",
   "execution_count": null,
   "metadata": {},
   "outputs": [],
   "source": [
    "@which eigmin(A)"
   ]
  },
  {
   "cell_type": "markdown",
   "metadata": {},
   "source": [
    "Don't request eigenvectors unless needed."
   ]
  },
  {
   "cell_type": "code",
   "execution_count": null,
   "metadata": {},
   "outputs": [],
   "source": [
    "using BenchmarkTools, Random, LinearAlgebra\n",
    "\n",
    "Random.seed!(257)\n",
    "n = 1000\n",
    "A = Symmetric(randn(n, n), :U)"
   ]
  },
  {
   "cell_type": "code",
   "execution_count": null,
   "metadata": {},
   "outputs": [],
   "source": [
    "# requesting eigenvalues only is cheaper\n",
    "@benchmark eigvals($A)"
   ]
  },
  {
   "cell_type": "code",
   "execution_count": null,
   "metadata": {},
   "outputs": [],
   "source": [
    "# requesting eigenvectors requires extra work\n",
    "@benchmark eigen($A)"
   ]
  },
  {
   "cell_type": "code",
   "execution_count": null,
   "metadata": {},
   "outputs": [],
   "source": [
    "@benchmark eigvecs($A)"
   ]
  },
  {
   "cell_type": "markdown",
   "metadata": {},
   "source": [
    "## Algorithm for singular value decomposition (SVD)\n",
    "\n",
    "<img src=\"./golub.jpeg\" width=\"150\" align=\"center\"/>\n",
    "\n",
    "<img src=\"./golub_license_plate.gif\" width=\"200\" align=\"center\"/>\n",
    "\n",
    "Assume $\\mathbf{A} \\in \\mathbb{R}^{m \\times n}$ and we seek the SVD $\\mathbf{A} = \\mathbf{U} \\mathbf{D} \\mathbf{V}^T$. \n",
    "\n",
    "<img src=\"svd_bidiagonalization.png\" width=\"400\" align=\"center\"/>\n",
    "\n",
    "<img src=\"SVD_bidiagonalization_2.png\" width=\"400\" align=\"center\"/>\n",
    "\n",
    "* **Golub-Kahan-Reinsch algorithm**: \n",
    "    * Stage 1: Transform $\\mathbf{A}$ to an upper bidiagonal form $\\mathbf{B}$ (by Householder).  \n",
    "    * Stage 2: Apply implicit-shift QR iteration to the tridiagonal matrix $\\mathbf{B}^T \\mathbf{B}$ _implicitly_.\n",
    "\n",
    "* See Section 8.6 of [Matrix Computation](http://catalog.library.ucla.edu/vwebv/holdingsInfo?bibId=7122088) by Gene Golub and Charles Van Loan (2013) for more details.\n",
    "\n",
    "* $4m^2 n + 8mn^2 + 9n^3$ flops for a tall $(m \\ge n)$ matrix.\n",
    "\n",
    "### Example\n",
    "\n",
    "Julia functions: [`svd`](https://docs.julialang.org/en/v1/stdlib/LinearAlgebra/#LinearAlgebra.svd), [`svd!`](https://docs.julialang.org/en/v1/stdlib/LinearAlgebra/#LinearAlgebra.svd), [`svdvals`](https://docs.julialang.org/en/v1/stdlib/LinearAlgebra/#LinearAlgebra.svdvals), [`svdvals!`](https://docs.julialang.org/en/v1/stdlib/LinearAlgebra/#LinearAlgebra.svdvals!)."
   ]
  },
  {
   "cell_type": "code",
   "execution_count": null,
   "metadata": {},
   "outputs": [],
   "source": [
    "Random.seed!(257)\n",
    "\n",
    "A = randn(5, 3)\n",
    "Asvd = svd(A)"
   ]
  },
  {
   "cell_type": "code",
   "execution_count": null,
   "metadata": {},
   "outputs": [],
   "source": [
    "Asvd.U"
   ]
  },
  {
   "cell_type": "code",
   "execution_count": null,
   "metadata": {},
   "outputs": [],
   "source": [
    "# Vt is cheaper to extract than V\n",
    "Asvd.Vt"
   ]
  },
  {
   "cell_type": "code",
   "execution_count": null,
   "metadata": {},
   "outputs": [],
   "source": [
    "Asvd.V"
   ]
  },
  {
   "cell_type": "code",
   "execution_count": null,
   "metadata": {},
   "outputs": [],
   "source": [
    "Asvd.S"
   ]
  },
  {
   "cell_type": "markdown",
   "metadata": {},
   "source": [
    "**Don't request singular vectors unless needed.**"
   ]
  },
  {
   "cell_type": "code",
   "execution_count": null,
   "metadata": {},
   "outputs": [],
   "source": [
    "Random.seed!(257)\n",
    "\n",
    "n, p = 1000, 500\n",
    "A = randn(n, p)\n",
    "@benchmark svdvals($A)"
   ]
  },
  {
   "cell_type": "code",
   "execution_count": null,
   "metadata": {},
   "outputs": [],
   "source": [
    "@benchmark svd($A)"
   ]
  },
  {
   "cell_type": "markdown",
   "metadata": {},
   "source": [
    "## Lanczos/Arnoldi iterative method for top eigen-pairs\n",
    "\n",
    "* Consider the Google PageRank problem. We want to find the top left eigenvector of the transition matrix $\\mathbf{P}$. Direct methods such as (unsymmetric) QR or SVD takes forever. Iterative methods such as power method is feasible. However power method may take a large number of iterations.\n",
    "\n",
    "* **Krylov subspace methods** are the state-of-art iterative methods for obtaining the top eigen-values/vectors or singular values/vectors of large **sparse** or **structured** matrices.\n",
    "\n",
    "* **Lanczos method**: top eigen-pairs of a large _symmetric_ matrix.  \n",
    "\n",
    "* **Arnoldi method**: top eigen-pairs of a large _asymmetric_ matrix.\n",
    "\n",
    "* Both methods are also adapted to obtain top singular values/vectors of large sparse or structured matrices.\n",
    "\n",
    "* `eigs` and `svds` in Julia [Arpack.jl](https://github.com/JuliaLinearAlgebra/Arpack.jl) package and Matlab are wrappers of the ARPACK package, which implements Lanczos and Arnoldi methods."
   ]
  },
  {
   "cell_type": "code",
   "execution_count": null,
   "metadata": {},
   "outputs": [],
   "source": [
    "using MatrixDepot, SparseArrays\n",
    "\n",
    "# Download the Boeing/bcsstk38 matrix (sparse, pd, 8032-by-8032) from SuiteSparse collection\n",
    "# https://www.cise.ufl.edu/research/sparse/matrices/Boeing/bcsstk38.html\n",
    "A = matrixdepot(\"Boeing/bcsstk38\")\n",
    "# Change type of A from Symmetric{Float64,SparseMatrixCSC{Float64,Int64}} to SparseMatrixCSC\n",
    "A = sparse(A)\n",
    "@show typeof(A)\n",
    "Afull = Matrix(A)\n",
    "@show typeof(Afull)\n",
    "# actual sparsity level\n",
    "count(!iszero, A) / length(A)"
   ]
  },
  {
   "cell_type": "code",
   "execution_count": null,
   "metadata": {},
   "outputs": [],
   "source": [
    "using UnicodePlots\n",
    "spy(A)"
   ]
  },
  {
   "cell_type": "code",
   "execution_count": null,
   "metadata": {},
   "outputs": [],
   "source": [
    "# top 5 eigenvalues by LAPACK (QR algorithm)\n",
    "n = size(A, 1)\n",
    "@time eigvals(Symmetric(Afull), (n-4):n)"
   ]
  },
  {
   "cell_type": "code",
   "execution_count": null,
   "metadata": {},
   "outputs": [],
   "source": [
    "using Arpack\n",
    "# top 5 eigenvalues by iterative methods\n",
    "@time eigs(A; nev=5, ritzvec=false, which=:LM)"
   ]
  },
  {
   "cell_type": "code",
   "execution_count": null,
   "metadata": {},
   "outputs": [],
   "source": [
    "@benchmark eigs($A; nev=5, ritzvec=false, which=:LM)"
   ]
  },
  {
   "cell_type": "markdown",
   "metadata": {},
   "source": [
    "We see >1000 fold speedup in this case.\n",
    "\n",
    "## Jacobi method for symmetric eigen-decomposition\n",
    "\n",
    "Assume $\\mathbf{A} \\in \\mathbf{R}^{n \\times n}$ is symmetric and we seek the eigen-decomposition $\\mathbf{A} = \\mathbf{U} \\Lambda \\mathbf{U}^T$.\n",
    "\n",
    "* Idea: Systematically reduce off-diagonal entries \n",
    "$$\n",
    "\\text{off}(\\mathbf{A}) = \\sum_i \\sum_{j \\ne i} a_{ij}^2\n",
    "$$\n",
    "by Jacobi rotations.\n",
    "\n",
    "* Jacobi/Givens rotations:\n",
    "$$\n",
    "\\begin{eqnarray*}\n",
    "\t\\mathbf{J}(p,q,\\theta) = \\begin{pmatrix} \n",
    "\t1 & & 0 & & 0 & & 0 \\\\\n",
    "\t\\vdots & \\ddots & \\vdots & & \\vdots & & \\vdots \\\\\n",
    "\t0 & & \\cos(\\theta) & & \\sin(\\theta) & & 0 \\\\ \n",
    "\t\\vdots & & \\vdots & \\ddots & \\vdots & & \\vdots \\\\\n",
    "\t0 & & - \\sin(\\theta) & & \\cos(\\theta) & & 0 \\\\\n",
    "\t\\vdots & & \\vdots & & \\vdots & \\ddots & \\vdots \\\\\n",
    "\t0 & & 0 & & 0 & & 1 \\end{pmatrix},\n",
    "\\end{eqnarray*}\n",
    "$$\n",
    "$\\mathbf{J}(p,q,\\theta)$ is orthogonal.\n",
    "\n",
    "* Consider $\\mathbf{B} = \\mathbf{J}^T \\mathbf{A} \\mathbf{J}$. $\\mathbf{B}$ preserves the symmetry and eigenvalues of $\\mathbf{A}$. Taking \n",
    "$$\n",
    "\\begin{eqnarray*}\n",
    "\\begin{cases}\n",
    "\\tan (2\\theta) = 2a_{pq}/({a_{qq}-a_{pp}}) & \\text{if } a_{pp} \\ne a_{qq} \\\\\n",
    "\\theta = \\pi/4 & \\text{if } a_{pp}=a_{qq}\n",
    "\\end{cases}\n",
    "\\end{eqnarray*}\n",
    "$$\n",
    "forces $b_{pq}=0$.\n",
    "\n",
    "* Since orthogonal transform preserves Frobenius norm, we have\n",
    "$$\n",
    "b_{pp}^2 + b_{qq}^2 = a_{pp}^2 + a_{qq}^2 + 2a_{pq}^2.\n",
    "$$ \n",
    "(Just check the 2-by-2 block)\n",
    "\n",
    "* Since $\\|\\mathbf{A}\\|_{\\text{F}} = \\|\\mathbf{B}\\|_{\\text{F}}$, this implies that the off-diagonal part \n",
    "$$\n",
    "\t\\text{off}(\\mathbf{B}) = \\text{off}(\\mathbf{A}) - 2a_{pq}^2\n",
    "$$\n",
    "is decreased whenever $a_{pq} \\ne 0$.\n",
    "\n",
    "* One Jacobi rotation costs $O(n)$ flops.\n",
    "\n",
    "* **Classical Jacobi**: search for the largest $|a_{ij}|$ at each iteration. $O(n^2)$ efforts!\n",
    "\n",
    "* $\\text{off}(\\mathbf{A}) \\le n(n-1) a_{ij}^2$ and $\\text{off}(\\mathbf{B}) = \\text{off}(\\mathbf{A}) - 2 a_{ij}^2$ together implies \n",
    "$$\n",
    "\\text{off}(\\mathbf{B}) \\le \\left( 1 - \\frac{2}{n(n-1)} \\right) \\text{off}(\\mathbf{A}).\n",
    "$$\n",
    "Thus Jacobi method converges in $O(n^2)$ iterations.\n",
    "\n",
    "* In practice, cyclic-by-row implementation, to avoid the costly $O(n^2)$ search in the classical Jacobi.\n",
    "\n",
    "* Jacobi method attracts a lot recent attention because of its rich inherent parallelism.\n",
    "\n",
    "* **Parallel Jacobi**: \"merry-go-round\" to generate parallel ordering.\n",
    "\n",
    "<img src=\"./merry_go_round.pdf\" width=\"500\" align=\"center\"/>"
   ]
  }
 ],
 "metadata": {
  "@webio": {
   "lastCommId": null,
   "lastKernelId": null
  },
  "jupytext": {
   "formats": "ipynb,qmd"
  },
  "kernelspec": {
   "display_name": "Julia 1.10.3",
   "language": "julia",
   "name": "julia-1.10"
  },
  "language_info": {
   "file_extension": ".jl",
   "mimetype": "application/julia",
   "name": "julia",
   "version": "1.10.3"
  },
  "toc": {
   "colors": {
    "hover_highlight": "#DAA520",
    "running_highlight": "#FF0000",
    "selected_highlight": "#FFD700"
   },
   "moveMenuLeft": true,
   "nav_menu": {
    "height": "341px",
    "width": "252px"
   },
   "navigate_menu": true,
   "number_sections": true,
   "sideBar": true,
   "skip_h1_title": true,
   "threshold": 4,
   "toc_cell": true,
   "toc_position": {
    "height": "336.20001220703125px",
    "left": "0px",
    "right": "628.1624755859375px",
    "top": "95.80000305175781px",
    "width": "139.83749389648438px"
   },
   "toc_section_display": "block",
   "toc_window_display": true,
   "widenNotebook": false
  },
  "toc-autonumbering": true
 },
 "nbformat": 4,
 "nbformat_minor": 4
}
