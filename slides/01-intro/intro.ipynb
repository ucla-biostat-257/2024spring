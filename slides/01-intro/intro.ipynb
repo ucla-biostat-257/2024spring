{
 "cells": [
  {
   "cell_type": "raw",
   "metadata": {},
   "source": [
    "---\n",
    "title: Course Introduction\n",
    "subtitle: Biostat/Biomath M257\n",
    "author: Dr. Hua Zhou @ UCLA\n",
    "date: today\n",
    "format:\n",
    "  html:\n",
    "    theme: cosmo\n",
    "    embed-resources: true\n",
    "    number-sections: true\n",
    "    toc: true\n",
    "    toc-depth: 4\n",
    "    toc-location: left\n",
    "    code-fold: false\n",
    "---"
   ]
  },
  {
   "cell_type": "markdown",
   "metadata": {},
   "source": [
    "System information (for reproducibility):"
   ]
  },
  {
   "cell_type": "code",
   "execution_count": 1,
   "metadata": {
    "tags": []
   },
   "outputs": [
    {
     "name": "stdout",
     "output_type": "stream",
     "text": [
      "Julia Version 1.10.2\n",
      "Commit bd47eca2c8a (2024-03-01 10:14 UTC)\n",
      "Build Info:\n",
      "  Official https://julialang.org/ release\n",
      "Platform Info:\n",
      "  OS: macOS (arm64-apple-darwin22.4.0)\n",
      "  CPU: 12 × Apple M2 Max\n",
      "  WORD_SIZE: 64\n",
      "  LIBM: libopenlibm\n",
      "  LLVM: libLLVM-15.0.7 (ORCJIT, apple-m1)\n",
      "Threads: 8 default, 0 interactive, 4 GC (on 8 virtual cores)\n",
      "Environment:\n",
      "  JULIA_NUM_THREADS = 8\n",
      "  JULIA_EDITOR = code\n"
     ]
    }
   ],
   "source": [
    "versioninfo()"
   ]
  },
  {
   "cell_type": "markdown",
   "metadata": {},
   "source": [
    "Load packages:"
   ]
  },
  {
   "cell_type": "code",
   "execution_count": 2,
   "metadata": {
    "tags": []
   },
   "outputs": [
    {
     "name": "stderr",
     "output_type": "stream",
     "text": [
      "\u001b[32m\u001b[1m  Activating\u001b[22m\u001b[39m project at `~/Documents/github.com/ucla-biostat-257/2024spring/slides/01-intro`\n"
     ]
    },
    {
     "name": "stdout",
     "output_type": "stream",
     "text": [
      "\u001b[32m\u001b[1mStatus\u001b[22m\u001b[39m `~/Documents/github.com/ucla-biostat-257/2024spring/slides/01-intro/Project.toml`\n",
      "  \u001b[90m[6e4b80f9] \u001b[39mBenchmarkTools v1.5.0\n",
      "  \u001b[90m[6f49c342] \u001b[39mRCall v0.14.1\n",
      "  \u001b[90m[37e2e46d] \u001b[39mLinearAlgebra\n",
      "  \u001b[90m[9a3f8284] \u001b[39mRandom\n"
     ]
    }
   ],
   "source": [
    "using Pkg\n",
    "Pkg.activate(pwd())\n",
    "Pkg.instantiate()\n",
    "Pkg.status()"
   ]
  },
  {
   "cell_type": "markdown",
   "metadata": {},
   "source": [
    "## Basic information\n",
    "\n",
    "* Tue/Thu 10am-11:50am @ CHS 61-262.   \n",
    "\n",
    "* Instructor: Dr. Hua Zhou.  "
   ]
  },
  {
   "cell_type": "markdown",
   "metadata": {},
   "source": [
    "## What is statistics?\n",
    "\n",
    "* Statistics, the science of *data analysis*, is the applied mathematics in the 21st century. \n",
    "\n",
    "* People (scientists, goverment, health professionals, companies) collect data in order to answer certain questions. Statisticians's job is to help them extract knowledge and insights from data. \n",
    "\n",
    "* If existing software tools readily solve the problem, all the better. \n",
    "\n",
    "* Often statisticians need to implement their own methods, test new algorithms, or tailor classical methods to new types of data (big, streaming). \n",
    "\n",
    "* This entails at least two essential skills: **programming** and fundamental knowledge of **algorithms**. "
   ]
  },
  {
   "cell_type": "markdown",
   "metadata": {},
   "source": [
    "## What is this course about?\n",
    "\n",
    "* **Not** a course on statistical packages. It does not answer questions such as _How to fit a linear mixed model in R,  Julia, SAS, SPSS, or Stata?_\n",
    "\n",
    "* **Not** a pure programming course, although programming is important and we do homework in Julia.  \n",
    "\n",
    "* **Not** a course on data science. [BIOSTAT 203B (Introduction to Data Science)](https://ucla-biostat-203b.github.io/2024winter/schedule/schedule-lec1.html) in winter quarter focuses on some software tools for data scientists.\n",
    "\n",
    "* This course focuses on **algorithms**, mostly those in **numerical linear algebra** and **numerical optimization**. "
   ]
  },
  {
   "cell_type": "markdown",
   "metadata": {},
   "source": [
    "## Learning objectives\n",
    "\n",
    "1. Be highly appreciative of this quote by [James Gentle](https://www.google.com/books/edition/Computational_Statistics/mQ5KAAAAQBAJ?hl=en&gbpv=1&dq=inauthor:%22James+E.+Gentle%22)\n",
    "\n",
    "    > The form of a mathematical expression and the way the expression should be evaluated in actual practice may be quite different.\n",
    "\n",
    "    Examples: $\\mathbf{X}^T \\mathbf{W} \\mathbf{X}$, $\\operatorname{tr} (\\mathbf{A} \\mathbf{B})$, $\\operatorname{diag} (\\mathbf{A} \\mathbf{B})$, multivariate normal density, ...  \n",
    "\n",
    "2. Become **memory-conscious**. You care about looping order. You do benchmarking on hot functions fanatically to make sure it's not allocating.    \n",
    "\n",
    "3. **No inversion mentality**. Whenever you see a matrix inverse in mathematical expression, your brain reacts with *matrix decomposition*, *iterative solvers*, etc. For R users, that means you almost never use the `solve(M)` function to obtain inverse of a matrix $\\boldsymbol{M}$.   \n",
    "\n",
    "    Examples: $(\\mathbf{X}^T \\mathbf{X})^{-1} \\mathbf{X}^T \\mathbf{y}$, $\\mathbf{y}^T \\boldsymbol{\\Sigma}^{-1} \\mathbf{y}$, Newton-Raphson algorithm, ...   \n",
    "\n",
    "4. Master some basic strategies to solve **big data** problems. \n",
    "\n",
    "    Examples: how Google solve the PageRank problem with $10^{9}$ webpages, linear regression with $10^7$ observations, etc.  \n",
    "\n",
    "5. No afraid of **optimizations** and treat it as a technology. Be able to recognize some major optimization problem classes and choose the best solver(s) correspondingly.\n",
    "\n",
    "6. Be immune to the language fight. "
   ]
  },
  {
   "cell_type": "markdown",
   "metadata": {},
   "source": [
    "## Course logistics\n",
    "\n",
    "* Course webpage: <https://ucla-biostat-257.github.io/2024spring>.\n",
    "\n",
    "* [Syllabus](https://ucla-biostat-257.github.io/2024spring/syllabus/syllabus.html).\n",
    "\n",
    "* Check the [Schedule](https://ucla-biostat-257.github.io/2024spring/schedule/schedule.html) page frequently. \n",
    "\n",
    "* Jupyter notebooks will be posted/updated before each lecture."
   ]
  },
  {
   "cell_type": "markdown",
   "metadata": {},
   "source": [
    "## How to get started\n",
    "\n",
    "All course materials are in GitHub repo <https://github.com/ucla-biostat-257/2024spring>. Lecture notes are Jupyter Notebooks (`.ipynb` files) in the `slides` folder. It is a good idea to learn by running through the code examples. You can do this in several ways. "
   ]
  },
  {
   "cell_type": "markdown",
   "metadata": {},
   "source": [
    "### Run Jupyter Notebook in Binder\n",
    "\n",
    "A quick and easy way to run the Jupyter Notebooks is Binder, a free service that allows us to run Jupyter Notebooks in cloud. Simply follow the Binder link at the [schedule](https://ucla-biostat-257.github.io/2024spring/schedule/schedule.html) page. \n",
    "\n",
    "If you want the JupyterLab interface, replace the `tree` by `lab` in the URL.  \n",
    "\n",
    "### Run Jupyter Notebook locally on your own computer\n",
    "\n",
    "1. Install Julia v1.10.x following instructions at <https://julialang.org/downloads/>.\n",
    "\n",
    "2. Install `IJulia` package. Open Julia REPL, type `]` to enter the package mode, then type\n",
    "```julia\n",
    "add IJulia\n",
    "build IJulia\n",
    "```\n",
    "\n",
    "3. Git clone the course material.   \n",
    "```bash\n",
    "git clone https://github.com/ucla-biostat-257/2024spring.git biostat-257-2024spring\n",
    "```\n",
    "You can change `biostat-257-2024spring` to any other directory name you prefer.\n",
    "\n",
    "4. On terminal, enter the folder for the ipynb file you want to run, e.g. `biostat-257-2024spring/slides/01-intro/`. \n",
    "\n",
    "5. Open Julia REPL, type  \n",
    "```julia  \n",
    "using IJulia\n",
    "jupyterlab(dir = pwd())\n",
    "```\n",
    "to open the JupyterLab in browser or\n",
    "```julia  \n",
    "using IJulia\n",
    "notebook(dir = pwd())\n",
    "```\n",
    "to open a Jupyter notebook.\n",
    "\n",
    "6. Course material is updated frequently. Remember to `git pull` to obtain the most recent material."
   ]
  },
  {
   "cell_type": "markdown",
   "metadata": {},
   "source": [
    "### Run Jupyter Notebook in VS Code (preferred)\n",
    "\n",
    "1. Install [Julia](https://julialang.org/downloads/), [VS Code](https://code.visualstudio.com/), and [Quarto](https://quarto.org/docs/get-started/).\n",
    "\n",
    "2. Open VS Code and install extensions: Julia, Jupyter, Quarto.\n",
    "\n",
    "3. Git clone the course material.   \n",
    "```bash\n",
    "git clone https://github.com/ucla-biostat-257/2024spring.git biostat-257-2024spring\n",
    "```\n",
    "You can change `biostat-257-2024spring` to any other directory name you prefer.\n",
    "\n",
    "4. Open the local Git repo in VS Code."
   ]
  },
  {
   "cell_type": "markdown",
   "metadata": {},
   "source": [
    "## iClicker\n",
    "\n",
    "* Occasionally I will use iClicker to collect real-time feedback during lectures and records attendance.\n",
    "\n",
    "* [Access the iClicker Student Web App](https://student.iclicker.com/#/login) (Select University of California Los Angeles through the Campus Portal).\n",
    "\n",
    "* Join class at <https://join.iclicker.com/QXCE>."
   ]
  },
  {
   "cell_type": "markdown",
   "metadata": {},
   "source": [
    "## In class dicussion\n",
    "\n",
    "The logistic regression is typically estimated by the Fisher scoring algorithm, or iteratively reweighted least squares (IWLS), which iterates according to\n",
    "$$\n",
    "\\boldsymbol{\\beta}^{(t)} = (\\mathbf{X}^T \\mathbf{W}^{(t)} \\mathbf{X})^{-1} \\mathbf{X}^T \\mathbf{W}^{(t)} \\mathbf{z}^{(t)},\n",
    "$$\n",
    "where $\\mathbf{z}^{(t)}$ are pseudo-responses and $\\mathbf{W}^{(t)} = \\text{diag}(\\mathbf{w}^{(t)})$ is a diagonal matrix with nonnegative weights on the diagonal. Superscript $t$ is the iterate number.\n",
    "\n",
    "Question: How much speedup we can achieve, by careful consideration of flops and memory usage, over the following naive implementation?\n",
    "```julia\n",
    "inv(X' * diagm(w) * X) * X' * diagm(w) * z\n",
    "```\n",
    "\n",
    "### Experiment\n",
    "\n",
    "First generate some data."
   ]
  },
  {
   "cell_type": "code",
   "execution_count": 3,
   "metadata": {
    "tags": []
   },
   "outputs": [],
   "source": [
    "using LinearAlgebra, Random\n",
    "\n",
    "# Random seed for reproducibility\n",
    "Random.seed!(257)\n",
    "# samples, features\n",
    "n, p = 5000, 100\n",
    "# design matrix\n",
    "X = [ones(n) randn(n, p - 1)]\n",
    "# pseudo-responses\n",
    "z = randn(n)\n",
    "# weights\n",
    "w = 0.25 * rand(n);"
   ]
  },
  {
   "cell_type": "markdown",
   "metadata": {},
   "source": [
    "### Method 1\n",
    "\n",
    "The following code literally translates the mathematical expression into code."
   ]
  },
  {
   "cell_type": "code",
   "execution_count": 4,
   "metadata": {
    "tags": []
   },
   "outputs": [
    {
     "data": {
      "text/plain": [
       "100-element Vector{Float64}:\n",
       "  0.03628463723928783\n",
       " -0.03627208624567233\n",
       "  0.001213577626395937\n",
       " -0.009790719634394993\n",
       " -0.0225073664180177\n",
       " -0.039421539594143795\n",
       " -0.00993327709139708\n",
       " -0.004858946353764453\n",
       " -0.032451272824711615\n",
       "  0.03149939821184099\n",
       "  ⋮\n",
       "  0.024508304135105848\n",
       " -0.029407803312566642\n",
       "  0.008214504192413711\n",
       "  0.008802962928228762\n",
       "  0.012746010620820295\n",
       " -0.008407817933495437\n",
       " -0.004671426276903782\n",
       "  0.008116101716043019\n",
       "  0.004261642427505596"
      ]
     },
     "metadata": {},
     "output_type": "display_data"
    }
   ],
   "source": [
    "# method 1 \n",
    "res1 = inv(X' * diagm(w) * X) * X' * diagm(w) * z"
   ]
  },
  {
   "cell_type": "code",
   "execution_count": 5,
   "metadata": {
    "tags": []
   },
   "outputs": [
    {
     "data": {
      "text/plain": [
       "BenchmarkTools.Trial: 58 samples with 1 evaluation.\n",
       " Range \u001b[90m(\u001b[39m\u001b[36m\u001b[1mmin\u001b[22m\u001b[39m … \u001b[35mmax\u001b[39m\u001b[90m):  \u001b[39m\u001b[36m\u001b[1m84.412 ms\u001b[22m\u001b[39m … \u001b[35m116.062 ms\u001b[39m  \u001b[90m┊\u001b[39m GC \u001b[90m(\u001b[39mmin … max\u001b[90m): \u001b[39m3.45% … 29.23%\n",
       " Time  \u001b[90m(\u001b[39m\u001b[34m\u001b[1mmedian\u001b[22m\u001b[39m\u001b[90m):     \u001b[39m\u001b[34m\u001b[1m86.329 ms               \u001b[22m\u001b[39m\u001b[90m┊\u001b[39m GC \u001b[90m(\u001b[39mmedian\u001b[90m):    \u001b[39m6.62%\n",
       " Time  \u001b[90m(\u001b[39m\u001b[32m\u001b[1mmean\u001b[22m\u001b[39m ± \u001b[32mσ\u001b[39m\u001b[90m):   \u001b[39m\u001b[32m\u001b[1m87.164 ms\u001b[22m\u001b[39m ± \u001b[32m  4.542 ms\u001b[39m  \u001b[90m┊\u001b[39m GC \u001b[90m(\u001b[39mmean ± σ\u001b[90m):  \u001b[39m7.42% ±  3.64%\n",
       "\n",
       "  \u001b[39m \u001b[39m \u001b[39m \u001b[39m \u001b[39m▃\u001b[39m▄\u001b[34m█\u001b[39m\u001b[39m \u001b[39m \u001b[32m \u001b[39m\u001b[39m \u001b[39m \u001b[39m \u001b[39m \u001b[39m \u001b[39m \u001b[39m \u001b[39m \u001b[39m \u001b[39m \u001b[39m \u001b[39m \u001b[39m \u001b[39m \u001b[39m \u001b[39m \u001b[39m \u001b[39m \u001b[39m \u001b[39m \u001b[39m \u001b[39m \u001b[39m \u001b[39m \u001b[39m \u001b[39m \u001b[39m \u001b[39m \u001b[39m \u001b[39m \u001b[39m \u001b[39m \u001b[39m \u001b[39m \u001b[39m \u001b[39m \u001b[39m \u001b[39m \u001b[39m \u001b[39m \u001b[39m \u001b[39m \u001b[39m \u001b[39m \u001b[39m \u001b[39m \u001b[39m \u001b[39m \u001b[39m \u001b[39m \u001b[39m \u001b[39m \n",
       "  \u001b[39m▃\u001b[39m▁\u001b[39m▆\u001b[39m█\u001b[39m█\u001b[39m█\u001b[34m█\u001b[39m\u001b[39m█\u001b[39m▅\u001b[32m▃\u001b[39m\u001b[39m▅\u001b[39m▁\u001b[39m▁\u001b[39m▁\u001b[39m▁\u001b[39m▄\u001b[39m▁\u001b[39m▁\u001b[39m▁\u001b[39m▁\u001b[39m▁\u001b[39m▁\u001b[39m▁\u001b[39m▁\u001b[39m▁\u001b[39m▁\u001b[39m▁\u001b[39m▁\u001b[39m▁\u001b[39m▁\u001b[39m▁\u001b[39m▁\u001b[39m▁\u001b[39m▁\u001b[39m▁\u001b[39m▁\u001b[39m▁\u001b[39m▁\u001b[39m▁\u001b[39m▁\u001b[39m▁\u001b[39m▁\u001b[39m▁\u001b[39m▁\u001b[39m▁\u001b[39m▁\u001b[39m▁\u001b[39m▁\u001b[39m▁\u001b[39m▁\u001b[39m▁\u001b[39m▁\u001b[39m▁\u001b[39m▁\u001b[39m▁\u001b[39m▁\u001b[39m▁\u001b[39m▁\u001b[39m▁\u001b[39m▃\u001b[39m \u001b[39m▁\n",
       "  84.4 ms\u001b[90m         Histogram: frequency by time\u001b[39m          103 ms \u001b[0m\u001b[1m<\u001b[22m\n",
       "\n",
       " Memory estimate\u001b[90m: \u001b[39m\u001b[33m393.12 MiB\u001b[39m, allocs estimate\u001b[90m: \u001b[39m\u001b[33m18\u001b[39m."
      ]
     },
     "metadata": {},
     "output_type": "display_data"
    }
   ],
   "source": [
    "using BenchmarkTools\n",
    "\n",
    "bm1 = @benchmark ((inv($X' * diagm($w) * $X) * $X') * diagm($w)) * $z\n",
    "bm1"
   ]
  },
  {
   "cell_type": "markdown",
   "metadata": {},
   "source": [
    "Several unwise choices of algorithms waste lots of flops. The memeory allocations, caused by intermediate results, also slow down the program because of the need for garbage collection. This is a common mistake a beginner programmer in a high-level language makes. For example, the following R code (same algorithm on the same data) shows similar allocation. R code is much slower than Julia possibly because of the outdated BLAS/LAPACK library being used. "
   ]
  },
  {
   "cell_type": "code",
   "execution_count": 12,
   "metadata": {
    "tags": []
   },
   "outputs": [
    {
     "name": "stdout",
     "output_type": "stream",
     "text": [
      "# A tibble: 1 x 13\n",
      "  expression                                                    min   median\n",
      "  <bch:expr>                                               <bch:tm> <bch:tm>\n",
      "1 solve(t(X) %*% diag(w) %*% X) %*% t(X) %*% diag(w) %*% z     1.8s    1.81s\n",
      "  `itr/sec` mem_alloc `gc/sec` n_itr  n_gc total_time result         \n",
      "      <dbl> <bch:byt>    <dbl> <int> <dbl>   <bch:tm> <list>         \n",
      "1     0.548     401MB     1.10    10    20      18.3s <dbl [100 x 1]>\n",
      "  memory              time            gc               \n",
      "  <list>              <list>          <list>           \n",
      "1 <Rprofmem [14 x 3]> <bench_tm [10]> <tibble [10 x 3]>\n"
     ]
    },
    {
     "name": "stderr",
     "output_type": "stream",
     "text": [
      "┌ Warning: RCall.jl: Warning: Some expressions had a GC in every iteration; so filtering is disabled.\n",
      "└ @ RCall /Users/huazhou/.julia/packages/RCall/dDAVd/src/io.jl:172\n"
     ]
    }
   ],
   "source": [
    "using RCall\n",
    "\n",
    "R\"\"\"\n",
    "library(bench)\n",
    "\n",
    "# Interpolate Julia variables into R workspace\n",
    "X <- $X\n",
    "w <- $w\n",
    "z <- $z\n",
    "\n",
    "rbm1 <- bench::mark(\n",
    "  solve(t(X) %*% diag(w) %*% X) %*% t(X) %*% diag(w) %*% z,\n",
    "  iterations = 10\n",
    "  ) |> \n",
    "  print(width = Inf)\n",
    "\"\"\";"
   ]
  },
  {
   "cell_type": "markdown",
   "metadata": {},
   "source": [
    "### Method 2\n",
    "\n",
    "In the following code, we make smarter choice of algorithms (rearranging order of evaluation; utilizing data structures such as diagonal matrix, triangular matrix, and positive definite matrices) and get rid of memeory allocation by pre-allocating intermediate arrays. "
   ]
  },
  {
   "cell_type": "code",
   "execution_count": 7,
   "metadata": {
    "tags": []
   },
   "outputs": [
    {
     "data": {
      "text/plain": [
       "100-element Vector{Float64}:\n",
       "  0.036284637239287806\n",
       " -0.036272086245672526\n",
       "  0.0012135776263959772\n",
       " -0.009790719634394951\n",
       " -0.022507366418017816\n",
       " -0.039421539594143844\n",
       " -0.009933277091397094\n",
       " -0.0048589463537644685\n",
       " -0.03245127282471156\n",
       "  0.03149939821184098\n",
       "  ⋮\n",
       "  0.024508304135105862\n",
       " -0.029407803312566747\n",
       "  0.008214504192413716\n",
       "  0.008802962928228839\n",
       "  0.0127460106208203\n",
       " -0.008407817933495482\n",
       " -0.004671426276903789\n",
       "  0.008116101716042996\n",
       "  0.004261642427505556"
      ]
     },
     "metadata": {},
     "output_type": "display_data"
    }
   ],
   "source": [
    "# preallocation\n",
    "XtWt = Matrix{Float64}(undef, p, n)\n",
    "XtX = Matrix{Float64}(undef, p, p)\n",
    "Xtz = Vector{Float64}(undef, p)\n",
    "\n",
    "function myfun(X, z, w, XtWt, XtX, Xtz)\n",
    "    # XtWt = X' * W\n",
    "    mul!(XtWt, transpose(X), Diagonal(w))\n",
    "    # XtX = X' * W * X\n",
    "    mul!(XtX, XtWt, X)\n",
    "    # Xtz = X' * W * z\n",
    "    mul!(Xtz, XtWt, z)\n",
    "    # Cholesky on XtX\n",
    "    LAPACK.potrf!('U', XtX)\n",
    "    # Two triangular solves to solve (XtX) \\ (Xtz)\n",
    "    BLAS.trsv!('U', 'T', 'N', XtX, Xtz)\n",
    "    BLAS.trsv!('U', 'N', 'N', XtX, Xtz)\n",
    "end\n",
    "\n",
    "# First check correctness vs Method 1\n",
    "res2 = myfun(X, z, w, XtWt, XtX, Xtz)"
   ]
  },
  {
   "cell_type": "code",
   "execution_count": 8,
   "metadata": {
    "tags": []
   },
   "outputs": [
    {
     "data": {
      "text/plain": [
       "BenchmarkTools.Trial: 4569 samples with 1 evaluation.\n",
       " Range \u001b[90m(\u001b[39m\u001b[36m\u001b[1mmin\u001b[22m\u001b[39m … \u001b[35mmax\u001b[39m\u001b[90m):  \u001b[39m\u001b[36m\u001b[1m1.069 ms\u001b[22m\u001b[39m … \u001b[35m 6.625 ms\u001b[39m  \u001b[90m┊\u001b[39m GC \u001b[90m(\u001b[39mmin … max\u001b[90m): \u001b[39m0.00% … 0.00%\n",
       " Time  \u001b[90m(\u001b[39m\u001b[34m\u001b[1mmedian\u001b[22m\u001b[39m\u001b[90m):     \u001b[39m\u001b[34m\u001b[1m1.083 ms              \u001b[22m\u001b[39m\u001b[90m┊\u001b[39m GC \u001b[90m(\u001b[39mmedian\u001b[90m):    \u001b[39m0.00%\n",
       " Time  \u001b[90m(\u001b[39m\u001b[32m\u001b[1mmean\u001b[22m\u001b[39m ± \u001b[32mσ\u001b[39m\u001b[90m):   \u001b[39m\u001b[32m\u001b[1m1.090 ms\u001b[22m\u001b[39m ± \u001b[32m99.765 μs\u001b[39m  \u001b[90m┊\u001b[39m GC \u001b[90m(\u001b[39mmean ± σ\u001b[90m):  \u001b[39m0.00% ± 0.00%\n",
       "\n",
       "  \u001b[39m \u001b[39m \u001b[39m \u001b[39m \u001b[39m \u001b[39m▃\u001b[39m▅\u001b[39m█\u001b[39m█\u001b[39m█\u001b[39m▆\u001b[39m▅\u001b[39m▄\u001b[34m▃\u001b[39m\u001b[39m▃\u001b[39m▂\u001b[39m▁\u001b[39m▁\u001b[39m \u001b[32m \u001b[39m\u001b[39m \u001b[39m \u001b[39m \u001b[39m \u001b[39m \u001b[39m \u001b[39m \u001b[39m \u001b[39m \u001b[39m \u001b[39m \u001b[39m \u001b[39m \u001b[39m \u001b[39m \u001b[39m \u001b[39m \u001b[39m \u001b[39m \u001b[39m \u001b[39m \u001b[39m \u001b[39m \u001b[39m \u001b[39m \u001b[39m \u001b[39m \u001b[39m \u001b[39m \u001b[39m \u001b[39m \u001b[39m \u001b[39m \u001b[39m \u001b[39m \u001b[39m \u001b[39m \u001b[39m \u001b[39m \u001b[39m \n",
       "  \u001b[39m▁\u001b[39m▂\u001b[39m▃\u001b[39m▄\u001b[39m█\u001b[39m█\u001b[39m█\u001b[39m█\u001b[39m█\u001b[39m█\u001b[39m█\u001b[39m█\u001b[39m█\u001b[34m█\u001b[39m\u001b[39m█\u001b[39m█\u001b[39m█\u001b[39m█\u001b[39m█\u001b[32m▇\u001b[39m\u001b[39m▆\u001b[39m▆\u001b[39m▆\u001b[39m▆\u001b[39m▅\u001b[39m▅\u001b[39m▄\u001b[39m▄\u001b[39m▄\u001b[39m▄\u001b[39m▃\u001b[39m▃\u001b[39m▃\u001b[39m▃\u001b[39m▃\u001b[39m▂\u001b[39m▂\u001b[39m▂\u001b[39m▂\u001b[39m▂\u001b[39m▁\u001b[39m▂\u001b[39m▁\u001b[39m▂\u001b[39m▁\u001b[39m▂\u001b[39m▁\u001b[39m▁\u001b[39m▁\u001b[39m▁\u001b[39m▁\u001b[39m▁\u001b[39m▁\u001b[39m▁\u001b[39m▁\u001b[39m▁\u001b[39m▁\u001b[39m▁\u001b[39m \u001b[39m▃\n",
       "  1.07 ms\u001b[90m        Histogram: frequency by time\u001b[39m        1.13 ms \u001b[0m\u001b[1m<\u001b[22m\n",
       "\n",
       " Memory estimate\u001b[90m: \u001b[39m\u001b[33m0 bytes\u001b[39m, allocs estimate\u001b[90m: \u001b[39m\u001b[33m0\u001b[39m."
      ]
     },
     "metadata": {},
     "output_type": "display_data"
    }
   ],
   "source": [
    "bm2 = @benchmark myfun($X, $z, $w, $XtWt, $XtX, $Xtz)\n",
    "bm2"
   ]
  },
  {
   "cell_type": "markdown",
   "metadata": {},
   "source": [
    "In R, a better implementation is\n",
    "```r\n",
    "solve(t(X * w) %*% X, t(X) %*% (z * w))\n",
    "```\n",
    "It's much faster than the naive implementation. To achieve zero memory allocation, some low-level coding using C++ and RcppEigen is necessary."
   ]
  },
  {
   "cell_type": "code",
   "execution_count": 15,
   "metadata": {
    "tags": []
   },
   "outputs": [
    {
     "name": "stdout",
     "output_type": "stream",
     "text": [
      "# A tibble: 1 x 13\n",
      "  expression                                   min   median `itr/sec` mem_alloc\n",
      "  <bch:expr>                              <bch:tm> <bch:tm>     <dbl> <bch:byt>\n",
      "1 solve(t(X * w) %*% X, t(X) %*% (z * w))   18.8ms   19.4ms      51.6    11.6MB\n",
      "  `gc/sec` n_itr  n_gc total_time result          memory             \n",
      "     <dbl> <int> <dbl>   <bch:tm> <list>          <list>             \n",
      "1     6.73    23     3      445ms <dbl [100 x 1]> <Rprofmem [10 x 3]>\n",
      "  time            gc               \n",
      "  <list>          <list>           \n",
      "1 <bench_tm [26]> <tibble [26 x 3]>\n"
     ]
    }
   ],
   "source": [
    "R\"\"\"\n",
    "rbm2 <- bench::mark(\n",
    "  solve(t(X * w) %*% X, t(X) %*% (z * w)),\n",
    "  ) |> \n",
    "  print(width = Inf)\n",
    "\"\"\";"
   ]
  },
  {
   "cell_type": "markdown",
   "metadata": {},
   "source": [
    "### Conclusion\n",
    "\n",
    "By careful consideration of the computational algorithms, we achieve a whooping speedup (in Julia) of"
   ]
  },
  {
   "cell_type": "code",
   "execution_count": 11,
   "metadata": {
    "tags": []
   },
   "outputs": [
    {
     "data": {
      "text/plain": [
       "79.6855507095881"
      ]
     },
     "metadata": {},
     "output_type": "display_data"
    }
   ],
   "source": [
    "# speed-up\n",
    "median(bm1.times) / median(bm2.times)"
   ]
  },
  {
   "cell_type": "markdown",
   "metadata": {},
   "source": [
    "For PhD students, that means, instead of waiting more than two months for your simulations to finish, you only need one day!"
   ]
  }
 ],
 "metadata": {
  "@webio": {
   "lastCommId": null,
   "lastKernelId": null
  },
  "celltoolbar": "Slideshow",
  "hide_input": false,
  "jupytext": {
   "formats": "ipynb,qmd"
  },
  "kernelspec": {
   "display_name": "Julia 1.10.2",
   "language": "julia",
   "name": "julia-1.10"
  },
  "language_info": {
   "file_extension": ".jl",
   "mimetype": "application/julia",
   "name": "julia",
   "version": "1.10.2"
  },
  "livereveal": {
   "scroll": true,
   "start_slideshow_at": "selected"
  },
  "toc": {
   "colors": {
    "hover_highlight": "#DAA520",
    "running_highlight": "#FF0000",
    "selected_highlight": "#FFD700"
   },
   "moveMenuLeft": true,
   "nav_menu": {
    "height": "213px",
    "width": "252px"
   },
   "navigate_menu": true,
   "number_sections": true,
   "sideBar": true,
   "skip_h1_title": true,
   "threshold": 4,
   "toc_cell": false,
   "toc_section_display": "block",
   "toc_window_display": true,
   "widenNotebook": false
  },
  "toc-autonumbering": true
 },
 "nbformat": 4,
 "nbformat_minor": 4
}
