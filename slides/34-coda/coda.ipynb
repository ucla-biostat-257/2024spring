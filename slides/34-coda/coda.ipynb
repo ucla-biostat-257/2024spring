{
 "cells": [
  {
   "cell_type": "raw",
   "metadata": {
    "vscode": {
     "languageId": "raw"
    }
   },
   "source": [
    "---\n",
    "title: Take-Home Messages\n",
    "subtitle: Biostat/Biomath M257\n",
    "author: Dr. Hua Zhou @ UCLA\n",
    "date: today\n",
    "format:\n",
    "  html:\n",
    "    theme: cosmo\n",
    "    embed-resources: true\n",
    "    number-sections: true\n",
    "    toc: true\n",
    "    toc-depth: 4\n",
    "    toc-location: left\n",
    "    code-fold: false\n",
    "---"
   ]
  },
  {
   "cell_type": "markdown",
   "metadata": {},
   "source": [
    "* Back to [learning objectives](https://ucla-biostat-257.github.io/2024spring/slides/01-intro/intro.html#learning-objectives).\n",
    "\n",
    "* Ultimate goal of statistics is **data analysis**. E.g., PageRank, handwritten digit recognization, Netflix matrix completion, NNMF, ...  \n",
    "\n",
    "    > Statistics is partly empirical and partly mathematical. It is now almost **entirely** computational.  \n",
    "    > Kenneth Lange\n",
    "\n",
    "| Statisticians used to .. | Now we spend all time ...  |\n",
    "|----------------------------------|------------------------------------|\n",
    "| <img src=\"./man_doing_math.gif\" style=\"width: 200px;\"/> | <img src=\"./man_working_on_computer.jpg\" style=\"width: 200px;\"/> |\n",
    "\n",
    "\n",
    "* Two essential skills for modern statisticians: **programming** and computational **algorithms**.\n",
    "\n",
    "    > Data Scientist (n.): Person who is better at statistics than any software engineer and better at software engineering than any statistician.  \n",
    "    > Josh Willis on Twitter\n",
    "\n",
    "* **Numerical linear algebra**\n",
    "    * building blocks of most computing we do. \n",
    "    * Use standard (and good) libraries (BLAS, LAPACK, ...) as much as possible!  \n",
    "    * Sparse linear algebra and iterative solvers such as conjugate gradient (CG) methods are critical for exploiting structure in big data.\n",
    "    \n",
    "* **Optimization**\n",
    "\n",
    "    * Convex programming (LS, LP, QP, GP, SOCP, SDP). Download and study Boyd and Vandenberghe's book, watch [lecture videos by Stephen Boyd](https://www.youtube.com/watch?v=kV1ru-Inzl4&list=PLoROMvodv4rMJqxxviPa4AmDClvcbHi6h) or take UCLA EE236B, EE236C by Vandenberghe, familiarize yourself with the **good** optimization softwares. Convex programming is becoming a **technology**, just like least squares (LS). Browse the documentation of `cvx` and `Convex.jl` to see which functions are implemented.\n",
    "\n",
    "    * Generic nonlinear optimization tools: Newton, Gauss-Newton, quasi-Newton, (nonlinear) conjugate gradient, ...\n",
    "\n",
    "    * Optimization tools developed by statisticians: Fisher scoring, EM, MM, ... Take UCLA Biomath 205 by Kenneth Lange for a thorough study of MM algorithms.\n",
    "\n",
    "<img src=\"./optimization_flowchart.png\" width=\"600\" align=\"center\"/>\n",
    "\n",
    "* About coding:  \n",
    "\n",
    "    * [5 Pro-Tips For Data Scientistis To Write Good Code](https://towardsdatascience.com/5-pro-tips-for-data-scientists-to-write-good-code-1fecef64ba09).  \n",
    "    \n",
    "    * **Perseverance and mentality**. It's always YOU! Not computer, not software, not Windows, not roundoff error, ... We tend to blame everything else except ourselves and give up. For example, when implementing Newton type algorithms, wrong derivative and/or Hessian calculation is the #1 source of problems. When implementing EM/MM algorithms, non-monotonicity always means bugs in our code or derivation. Bring the **homework mentality** into research. \n",
    "    \n",
    "    * Keeping updating a (computational) note along with code. \n",
    "\n",
    "* Enjoy (or hate) Julia?  \n",
    "JuliaCon 2024: https://juliacon.org/2024/\n",
    "\n",
    "YouTube: <https://www.youtube.com/watch?v=U41e7hKAAPQ&t=3073s>"
   ]
  }
 ],
 "metadata": {
  "@webio": {
   "lastCommId": null,
   "lastKernelId": null
  },
  "jupytext": {
   "formats": "ipynb,qmd"
  },
  "kernelspec": {
   "display_name": "Julia 1.10.3",
   "language": "julia",
   "name": "julia-1.10"
  },
  "language_info": {
   "file_extension": ".jl",
   "mimetype": "application/julia",
   "name": "julia",
   "version": "1.10.3"
  },
  "toc": {
   "colors": {
    "hover_highlight": "#DAA520",
    "running_highlight": "#FF0000",
    "selected_highlight": "#FFD700"
   },
   "moveMenuLeft": true,
   "nav_menu": {
    "height": "30px",
    "width": "252px"
   },
   "navigate_menu": true,
   "number_sections": false,
   "sideBar": true,
   "skip_h1_title": true,
   "threshold": 4,
   "toc_cell": false,
   "toc_section_display": "block",
   "toc_window_display": false,
   "widenNotebook": false
  }
 },
 "nbformat": 4,
 "nbformat_minor": 4
}
